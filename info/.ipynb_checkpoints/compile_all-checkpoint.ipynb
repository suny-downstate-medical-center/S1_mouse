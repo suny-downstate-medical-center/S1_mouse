{
 "cells": [
  {
   "cell_type": "markdown",
   "metadata": {},
   "source": [
    "# Input-output properties cells"
   ]
  },
  {
   "cell_type": "code",
   "execution_count": 1,
   "metadata": {},
   "outputs": [
    {
     "name": "stdout",
     "output_type": "stream",
     "text": [
      "['L4_BTC_bSTUT213_3', 'L6_NBC_bIR215_1']\n"
     ]
    }
   ],
   "source": [
    "import h5py\n",
    "import json\n",
    "import numpy as np\n",
    "import os\n",
    "if 'DISPLAY' in os.environ: #(no nrngui)\n",
    "    del os.environ['DISPLAY']\n",
    "import sys\n",
    "sys.path.insert(0, '/usr/local/nrn/lib/python/') # Solve an issue with NEURON simulator import \n",
    "from matplotlib import pyplot as plt\n",
    "    \n",
    "    \n",
    "folder = os.listdir('cell_data/')\n",
    "print(folder[0:2])\n",
    "\n",
    "compilemods=0"
   ]
  },
  {
   "cell_type": "code",
   "execution_count": 2,
   "metadata": {},
   "outputs": [],
   "source": [
    "from neuron import h, gui\n",
    "import neuron\n",
    "import os\n",
    "\n",
    "def loadTemplateName(cellName): \n",
    "    f = file('/home/fernando/Downloads/S1_BBP-master/cell_data/'+cellName+'/template.hoc', 'r')\n",
    "    for line in f.readlines():\n",
    "        if 'begintemplate' in line:\n",
    "            templatename = str(line)     \n",
    "    templatename=templatename[:-1]        \n",
    "    templatename=templatename[14:]\n",
    "    return templatename\n",
    "\n",
    "\n",
    "def loadCell(cellName):\n",
    "    cellTemplateName=loadTemplateName(cellName)\n",
    "    os.chdir('cell_data/'+cellName+'/')\n",
    "    h.load_file('import3d.hoc')\n",
    "    h.load_file('template.hoc')\n",
    "    cell = getattr(h, cellTemplateName)(0)\n",
    "    return cell"
   ]
  },
  {
   "cell_type": "code",
   "execution_count": 3,
   "metadata": {},
   "outputs": [],
   "source": [
    "from cellwrapper2 import loadCell,loadTemplateName"
   ]
  },
  {
   "cell_type": "code",
   "execution_count": null,
   "metadata": {
    "scrolled": false
   },
   "outputs": [],
   "source": [
    "cellnumber=484\n",
    "for cellnames in folder[0:1]:\n",
    "    \n",
    "    cellnumber=cellnumber+1\n",
    "    \n",
    "    cellName = folder[cellnumber]\n",
    "    print(folder[cellnumber])\n",
    "    loadCell(cellName)\n",
    "    !nrnivmodl mechanisms   \n",
    "    os.chdir('../../')"
   ]
  },
  {
   "cell_type": "code",
   "execution_count": null,
   "metadata": {},
   "outputs": [],
   "source": [
    "cellName = 'L6_BP_bIR215_5'"
   ]
  },
  {
   "cell_type": "code",
   "execution_count": null,
   "metadata": {},
   "outputs": [],
   "source": [
    "loadCell(cellName)"
   ]
  }
 ],
 "metadata": {
  "kernelspec": {
   "display_name": "Python 3",
   "language": "python",
   "name": "python3"
  },
  "language_info": {
   "codemirror_mode": {
    "name": "ipython",
    "version": 3
   },
   "file_extension": ".py",
   "mimetype": "text/x-python",
   "name": "python",
   "nbconvert_exporter": "python",
   "pygments_lexer": "ipython3",
   "version": "3.7.9"
  },
  "widgets": {
   "state": {
    "5d7515ec2d3c485faf342256962a9e1b": {
     "views": [
      {
       "cell_index": 55
      }
     ]
    },
    "67b10b1ff7bd4d00996c6f8c66ea2f54": {
     "views": [
      {
       "cell_index": 87
      }
     ]
    },
    "ac8a9e4ca55645a3828b4266fadf29a9": {
     "views": [
      {
       "cell_index": 41
      }
     ]
    }
   },
   "version": "1.2.0"
  }
 },
 "nbformat": 4,
 "nbformat_minor": 2
}
