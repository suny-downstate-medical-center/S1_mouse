{
 "cells": [
  {
   "cell_type": "markdown",
   "metadata": {},
   "source": [
    "# Input-output properties cells"
   ]
  },
  {
   "cell_type": "code",
   "execution_count": 1,
   "metadata": {},
   "outputs": [],
   "source": [
    "import h5py\n",
    "import json\n",
    "import numpy as np\n",
    "import os\n",
    "import sys\n",
    "from matplotlib import pyplot as plt\n",
    "\n",
    "rootFolder = '/home/fernando/S1_mouse'\n",
    "#------------------------------------------------------------------------------  "
   ]
  },
  {
   "cell_type": "code",
   "execution_count": 2,
   "metadata": {},
   "outputs": [
    {
     "name": "stdout",
     "output_type": "stream",
     "text": [
      "Number of cells = 31346\n"
     ]
    }
   ],
   "source": [
    "#------------------------------------------------------------------------------\n",
    "# Cells\n",
    "#------------------------------------------------------------------------------\n",
    "# Load 55 Morphological Names-> L1:6 L23:10 L4:12 L5:13 L6:14\n",
    "# Load 207 Morpho-electrical Names-> L1:14 L23:43 L4:46 L5:52 L6:52\n",
    "\n",
    "with open(rootFolder + '/info/anatomy/S1-cells-distributions-Rat.txt') as metype_file:\n",
    "    metype_content = metype_file.read()       \n",
    "\n",
    "MtypeNumber = {}\n",
    "MEtypeNumber = {}\n",
    "MtypePop = []\n",
    "MEtypePop = []\n",
    "popLabel = {}\n",
    "N = 0\n",
    "for line in metype_content.split('\\n')[:-1]:\n",
    "    metype, mtype, etype, n, m = line.split()\n",
    "    MEtypeNumber[metype] = int(n)\n",
    "    popLabel[metype] = mtype\n",
    "    MtypeNumber[mtype] = int(m)\n",
    "\n",
    "    if mtype not in MtypePop:\n",
    "        MtypePop.append(mtype)\n",
    "    MEtypePop.append(metype)\n",
    "    \n",
    "    N = N + int(n)\n",
    "    \n",
    "print ('Number of cells = %d' % N)"
   ]
  },
  {
   "cell_type": "code",
   "execution_count": 3,
   "metadata": {},
   "outputs": [],
   "source": [
    "Epops = ['L23_PC', 'L4_PC', 'L4_SS', 'L4_SP', \n",
    "             'L5_TTPC1', 'L5_TTPC2', 'L5_STPC', 'L5_UTPC',\n",
    "             'L6_TPC_L1', 'L6_TPC_L4', 'L6_BPC', 'L6_IPC', 'L6_UTPC']\n",
    "Ipops = []\n",
    "for popName in MtypePop:\n",
    "    if popName not in Epops:\n",
    "        Ipops.append(popName)"
   ]
  },
  {
   "cell_type": "code",
   "execution_count": 4,
   "metadata": {},
   "outputs": [],
   "source": [
    "# for cellName in MEtypePop:\n",
    "#     for number in range[1,6]:\n",
    "#         os.chdir('/home/fernando/Downloads/hoc_combos_syn.1_0_10.allzips/'+cellName+'_'+str(number)+'/')\n",
    "#         !nrnivmodl mechanisms"
   ]
  },
  {
   "cell_type": "code",
   "execution_count": 5,
   "metadata": {},
   "outputs": [],
   "source": [
    "def loadTemplateName(cellName,number): \n",
    "    f = open('/home/fernando/S1_BBP/cell_data/'+cellName+'_'+str(number)+'/template.hoc', 'r')\n",
    "    for line in f.readlines():\n",
    "        if 'begintemplate' in line:\n",
    "            templatename = str(line)     \n",
    "    templatename=templatename[:-1]        \n",
    "    templatename=templatename[14:]\n",
    "    return templatename"
   ]
  },
  {
   "cell_type": "code",
   "execution_count": 6,
   "metadata": {
    "scrolled": true
   },
   "outputs": [],
   "source": [
    "def loadCell(cellName,cellTemplateName,number):\n",
    "    \n",
    "    from neuron import h\n",
    "    \n",
    "    os.chdir('/home/fernando/S1_BBP/cell_data/'+cellName+'_'+str(number)+'/')\n",
    "    h.load_file(\"stdrun.hoc\")\n",
    "    h.load_file('import3d.hoc')\n",
    "    try:\n",
    "        h.xopen(\"morphology.hoc\")\n",
    "    except:\n",
    "        pass\n",
    "    try:\n",
    "        h.xopen(\"biophysics.hoc\")\n",
    "    except:\n",
    "        pass\n",
    "    try:\n",
    "        h.xopen(\"synapses/synapses.hoc\")\n",
    "    except:\n",
    "        pass\n",
    "    try:\n",
    "        h.xopen(\"template.hoc\")\n",
    "    except:\n",
    "        pass\n",
    "    \n",
    "    cell = getattr(h, cellTemplateName)(0)\n",
    "    \n",
    "    i=0\n",
    "    for secs in cell.somatic:\n",
    "        sec = cell.soma[i]\n",
    "        listmech = list(cell.soma[i](0.5))      \n",
    "        for mech in listmech:\n",
    "            if str(mech) == 'StochKv':\n",
    "                print (sec, mech, i)\n",
    "        i=i+1\n",
    "\n",
    "    i=0\n",
    "    for secs in cell.basal:\n",
    "        sec = cell.dend[i]\n",
    "        listmech = list(cell.dend[i](0.5))      \n",
    "        for mech in listmech:\n",
    "            if str(mech) == 'StochKv':\n",
    "                print (sec, mech, i)\n",
    "        i=i+1\n",
    "\n",
    "    i=0\n",
    "    for secs in cell.apical:\n",
    "        sec = cell.apic[i]\n",
    "        listmech = list(cell.apic[i](0.5))      \n",
    "        for mech in listmech:\n",
    "            if str(mech) == 'StochKv':\n",
    "                print (sec, mech, i)\n",
    "        i=i+1\n",
    "\n",
    "    i=0\n",
    "    for secs in cell.axonal:\n",
    "        sec = cell.axon[i]\n",
    "        listmech = list(cell.axon[i](0.5))      \n",
    "        for mech in listmech:\n",
    "            if str(mech) == 'StochKv':\n",
    "                print (sec, mech, i)\n",
    "        i=i+1     \n",
    "    \n",
    "    print (cell)\n",
    "    return cell"
   ]
  },
  {
   "cell_type": "code",
   "execution_count": 7,
   "metadata": {
    "scrolled": true
   },
   "outputs": [],
   "source": [
    "StochKvcells = []\n",
    "nonStochKvcells = []\n",
    "\n",
    "for cellName in MEtypePop:\n",
    "    number = 1\n",
    "    os.chdir('/home/fernando/S1_BBP/cell_data/'+cellName+'_'+str(number)+'/')\n",
    "    \n",
    "    foldermech = os.listdir('mechanisms/')\n",
    "    if 'StochKv.mod' in foldermech:\n",
    "        StochKvcells.append(cellName) \n",
    "    else:\n",
    "        nonStochKvcells.append(cellName) "
   ]
  },
  {
   "cell_type": "code",
   "execution_count": 8,
   "metadata": {
    "scrolled": true
   },
   "outputs": [
    {
     "name": "stdout",
     "output_type": "stream",
     "text": [
      "L1_HAC_cIR216 1 cIR216_L1_HAC_84f0f8f321\n"
     ]
    }
   ],
   "source": [
    "cellName = StochKvcells[0]\n",
    "number = 1\n",
    "cellTemplateName = loadTemplateName(cellName,number)\n",
    "print(cellName,number,cellTemplateName)\n",
    "os.chdir('/home/fernando/S1_BBP/cell_data/'+cellName+'_'+str(number)+'/')\n",
    "# loadCell(cellName,cellTemplateName,number)"
   ]
  },
  {
   "cell_type": "code",
   "execution_count": 9,
   "metadata": {},
   "outputs": [
    {
     "name": "stdout",
     "output_type": "stream",
     "text": [
      "cells with StochKv channel = 1137 (3.63 percent) \n"
     ]
    }
   ],
   "source": [
    "StochKvcellsNumber = 0\n",
    "for metype in StochKvcells:    \n",
    "    StochKvcellsNumber = StochKvcellsNumber + MEtypeNumber[metype]\n",
    "\n",
    "print('cells with StochKv channel = %d (%.2f percent) ' % (StochKvcellsNumber,100.0*StochKvcellsNumber/N))     "
   ]
  },
  {
   "cell_type": "markdown",
   "metadata": {},
   "source": [
    "# Adaptation to Mouse Model \n",
    "https://www.humanbrainproject.eu/en/brain-simulation/mouse-sscx/"
   ]
  },
  {
   "cell_type": "code",
   "execution_count": 10,
   "metadata": {},
   "outputs": [],
   "source": [
    "def volume(sizey, radius):    \n",
    "    sizey = 0.001 * sizey # from um to mm\n",
    "    radius = 0.001 * radius # from um to mm    \n",
    "    vol = np.pi * radius**2 * sizey\n",
    "    return vol\n",
    "\n",
    "def cellNumber(sizey, radius, density):\n",
    "    number = volume(sizey, radius) * density\n",
    "    return number"
   ]
  },
  {
   "cell_type": "code",
   "execution_count": 11,
   "metadata": {},
   "outputs": [],
   "source": [
    "# # RAT Cell 2015 \n",
    "# Layerthicknesses = {}  \n",
    "# Layerthicknesses['L1'] = 165\n",
    "# Layerthicknesses['L2'] = 149\n",
    "# Layerthicknesses['L3'] = 353\n",
    "# Layerthicknesses['L4'] = 190\n",
    "# Layerthicknesses['L5'] = 525\n",
    "# Layerthicknesses['L6'] = 700\n",
    "# Neurondensities = {}\n",
    "# Neurondensities['L1'] = 14200\n",
    "# Neurondensities['L2'] = 164600\n",
    "# Neurondensities['L3'] = 83800\n",
    "# Neurondensities['L4'] = 177300\n",
    "# Neurondensities['L5'] = 83900\n",
    "# Neurondensities['L6'] = 131500\n",
    "# neuronsperlayer = {}\n",
    "# neuronsperlayer['L1'] = 338\n",
    "# neuronsperlayer['L23'] = 7524\n",
    "# neuronsperlayer['L4'] = 4656\n",
    "# neuronsperlayer['L5'] = 6114\n",
    "# neuronsperlayer['L6'] = 12651\n",
    "\n",
    "# radius = 210\n",
    "# for layer in ['L1','L4','L5','L6']:\n",
    "#     print ('cell Number in Layer %s =  %.0f' % (layer,cellNumber(Layerthicknesses[layer], radius, Neurondensities[layer])))    \n",
    "#     print ('comparation BBPwebsite %.3f' % (cellNumber(Layerthicknesses[layer], radius, Neurondensities[layer])/neuronsperlayer[layer]))\n",
    "\n",
    "# print ('cell Number in Layer L23 =  %.0f' % (cellNumber(Layerthicknesses['L2'], radius, Neurondensities['L2']) + cellNumber(Layerthicknesses['L3'], 210, Neurondensities['L3'])))      \n",
    "# print ('comparation BBPwebsite %.3f' % ((cellNumber(Layerthicknesses['L2'], radius, Neurondensities['L2']) + cellNumber(Layerthicknesses['L3'], 210, Neurondensities['L3']))/neuronsperlayer['L23']))\n",
    "\n",
    "# synapticdensities = {}\n",
    "# synapticdensities['L1'] = 61728000.0\n",
    "# synapticdensities['L2'] = 101313777.77778\n",
    "# synapticdensities['L3'] = 101313777.77778\n",
    "# synapticdensities['L4'] = 351032889.0\n",
    "# synapticdensities['L5'] = 350586074.0\n",
    "# synapticdensities['L6'] = 105211259.0\n",
    "# synapticNumberMouse = 0\n",
    "# synapticNumberperLayerMouse = {}\n",
    "# for layer in ['L1','L2','L3','L4','L5','L6']:\n",
    "#     print ('synaptic Number in Layer %s =  %.0f' % (layer,cellNumber(Layerthicknesses[layer], radius, synapticdensities[layer])))       \n",
    "#     synapticNumberperLayerMouse[layer] = cellNumber(Layerthicknesses[layer], radius, synapticdensities[layer])\n",
    "#     synapticNumberMouse = synapticNumberMouse + synapticNumberperLayerMouse[layer]\n",
    "    \n",
    "# print ('synaptic Number in a cilinder (d = %d um) =  %.0f' % (2*radius,synapticNumberMouse))   \n"
   ]
  },
  {
   "cell_type": "code",
   "execution_count": 12,
   "metadata": {},
   "outputs": [],
   "source": [
    "#  mock circuit DMT neuro_dmt-library/models/mock/circuit/test\n",
    "# __thickness_layer ={    1: 122.3,    2: 113.5,    3: 302.9,    4: 176.4,    5: 477.9,    6: 647.3}\n",
    "# __cell_density_layer ={    1: 18566,    2: 131561,    3: 81203,    4: 183128,    5: 98080,    6: 116555}\n",
    "\n",
    "# Layerthicknesses = {}  # MOUSE\n",
    "# Layerthicknesses['L1'] = 122.3\n",
    "# Layerthicknesses['L2'] = 113.5\n",
    "# Layerthicknesses['L3'] = 302.9\n",
    "# Layerthicknesses['L4'] = 176.4\n",
    "# Layerthicknesses['L5'] = 477.9\n",
    "# Layerthicknesses['L6'] = 647.3\n",
    "# Neurondensities = {}\n",
    "# Neurondensities['L1'] = 18566\n",
    "# Neurondensities['L2'] = 131561\n",
    "# Neurondensities['L3'] = 81203\n",
    "# Neurondensities['L4'] = 183128\n",
    "# Neurondensities['L5'] = 98080\n",
    "# Neurondensities['L6'] = 116555\n",
    "# neuronsperlayer = {}\n",
    "# neuronsperlayer['L1'] = 752/7 \n",
    "# neuronsperlayer['L2'] = 5893/7\n",
    "# neuronsperlayer['L3'] = 5340/7\n",
    "# neuronsperlayer['L4'] = 8204/7\n",
    "# neuronsperlayer['L5'] = 9711/7\n",
    "# neuronsperlayer['L6'] = 15991/7\n",
    "\n",
    "# radius = 125\n",
    "# for layer in ['L1','L2','L3','L4','L5','L6']:\n",
    "#     print ('cell Number in Layer %s =  %.0f' % (layer,cellNumber(Layerthicknesses[layer], radius, Neurondensities[layer])))    \n",
    "#     print ('comparation BBPwebsite %.3f' % (cellNumber(Layerthicknesses[layer], radius, Neurondensities[layer])/neuronsperlayer[layer]))"
   ]
  },
  {
   "cell_type": "code",
   "execution_count": 13,
   "metadata": {
    "scrolled": false
   },
   "outputs": [
    {
     "name": "stdout",
     "output_type": "stream",
     "text": [
      "cell Number in Layer L1 =  159\n",
      "cell Number in Layer L2 =  967\n",
      "cell Number in Layer L3 =  912\n",
      "cell Number in Layer L4 =  1379\n",
      "cell Number in Layer L5 =  1689\n",
      "cell Number in Layer L6 =  2756\n",
      "cell Number in Layer L23 =  1879\n",
      "cell Number in a cilinder (d = 300 um and v = 0.097 um^3) =  7862\n",
      "synaptic Number in Layer L1 =  14437459\n",
      "synaptic Number in Layer L2 =  9145658\n",
      "synaptic Number in Layer L3 =  16023217\n",
      "synaptic Number in Layer L4 =  19646918\n",
      "synaptic Number in Layer L5 =  30319087\n",
      "synaptic Number in Layer L6 =  27898276\n",
      "synaptic Number in a cilinder (d = 300 um) =  117470614\n",
      "synapses per Neuron ~  14941.0\n",
      "synaptic Number in Layer L1 =  13208181\n",
      "synaptic Number in Layer L2 =  8493527\n",
      "synaptic Number in Layer L3 =  14729975\n",
      "synaptic Number in Layer L4 =  17592075\n",
      "synaptic Number in Layer L5 =  27863855\n",
      "synaptic Number in Layer L6 =  25350744\n",
      "synaptic EXC Number in a cilinder (d = 300 um) =  107238357\n",
      "synapses EXC per Neuron ~  13639.6\n",
      "synaptic Number in Layer L1 =  1229278\n",
      "synaptic Number in Layer L2 =  652132\n",
      "synaptic Number in Layer L3 =  1293248\n",
      "synaptic Number in Layer L4 =  2054851\n",
      "synaptic Number in Layer L5 =  2480713\n",
      "synaptic Number in Layer L6 =  2547531\n",
      "synaptic INH Number in a cilinder (d = 300 um) =  10257753\n",
      "synapses INH per Neuron ~  1304.7\n"
     ]
    }
   ],
   "source": [
    "# neuro_dmt-library/data/sscx_mouse/\n",
    "# layer_thickness_means: 122.7050 - 96.4912 - 175.8397 - 185.2523 - 362.2625 - 436.2220 (DeFelipe20180212.yaml) \n",
    "# density_means: 18.3092  - 141.745  - 73.4301  - 105.262  - 65.955  - 89.3954  (Keller2018Feb14.yaml)  \n",
    "Layerthicknesses = {}  \n",
    "Layerthicknesses['L1'] = 122.7\n",
    "Layerthicknesses['L2'] = 96.5\n",
    "Layerthicknesses['L3'] = 175.8\n",
    "Layerthicknesses['L4'] = 185.3\n",
    "Layerthicknesses['L5'] = 362.3\n",
    "Layerthicknesses['L6'] = 436.2\n",
    "Neurondensities = {}\n",
    "Neurondensities['L1'] = 18309.2\n",
    "Neurondensities['L2'] = 141745\n",
    "Neurondensities['L3'] = 73430.1\n",
    "Neurondensities['L4'] = 105262\n",
    "Neurondensities['L5'] = 65955\n",
    "Neurondensities['L6'] = 89395.4\n",
    "\n",
    "# from https://bbp.epfl.ch/public/simulationapp/index.html#/circuits/sscx_hbp_sa_mouse_microcircuit\n",
    "neuronsperlayer = {} \n",
    "neuronsperlayer['L1'] = 752/7\n",
    "neuronsperlayer['L2'] = 5893/7\n",
    "neuronsperlayer['L3'] = 5340/7\n",
    "neuronsperlayer['L4'] = 8204/7\n",
    "neuronsperlayer['L5'] = 9711/7\n",
    "neuronsperlayer['L6'] = 15991/7\n",
    "\n",
    "radius = 150\n",
    "cellNumberMouse = 0\n",
    "y = 0\n",
    "cellNumberperLayerMouse = {}\n",
    "for layer in ['L1','L2','L3','L4','L5','L6']:    \n",
    "    y = y + Layerthicknesses[layer]     \n",
    "    print ('cell Number in Layer %s =  %.0f' % (layer,cellNumber(Layerthicknesses[layer], radius, Neurondensities[layer])))       \n",
    "    cellNumberperLayerMouse[layer] = cellNumber(Layerthicknesses[layer], radius, Neurondensities[layer])\n",
    "    cellNumberMouse = cellNumberMouse + cellNumberperLayerMouse[layer]\n",
    "    #     print ('comparation BBPwebsite %.3f' % (cellNumber(Layerthicknesses[layer], radius, Neurondensities[layer])/neuronsperlayer[layer]))\n",
    "\n",
    "cellNumberperLayerMouse['L23'] = cellNumberperLayerMouse['L2'] + cellNumberperLayerMouse['L3']\n",
    "print ('cell Number in Layer L23 =  %.0f' % cellNumberperLayerMouse['L23'])  \n",
    "    \n",
    "print ('cell Number in a cilinder (d = %d um and v = %.3f um^3) =  %.0f' % (2*radius,volume(y,radius),cellNumberMouse))   \n",
    "\n",
    "# De Felipe et al. (2018).  'Synapse Densities per Layer'\n",
    "# animal: \"mouse\" brainArea: \"S1 hindlimb\"\n",
    "synapticdensities = {}\n",
    "synapticdensities['L1'] = 1.664615 * 10**9 # from um^3 to mm^3\n",
    "synapticdensities['L2'] = 1.340773 * 10**9\n",
    "synapticdensities['L3'] = 1.289432 * 10**9\n",
    "synapticdensities['L4'] = 1.499984 * 10**9\n",
    "synapticdensities['L5'] = 1.183901 * 10**9\n",
    "synapticdensities['L6'] = 0.904814 * 10**9\n",
    "synapticdensitiesE = {}\n",
    "synapticdensitiesE['L1'] = 1.52288128 * 10**9 # from um^3 to mm^3\n",
    "synapticdensitiesE['L2'] = 1.24516915 * 10**9\n",
    "synapticdensitiesE['L3'] = 1.18536133 * 10**9\n",
    "synapticdensitiesE['L4'] = 1.34310283 * 10**9\n",
    "synapticdensitiesE['L5'] = 1.088029 * 10**9\n",
    "synapticdensitiesE['L6'] = 0.82219090 * 10**9\n",
    "synapticdensitiesI = {}\n",
    "synapticdensitiesI['L1'] = 0.14173376 * 10**9 # from um^3 to mm^3\n",
    "synapticdensitiesI['L2'] = 0.09560400 * 10**9\n",
    "synapticdensitiesI['L3'] = 0.10407120 * 10**9\n",
    "synapticdensitiesI['L4'] = 0.15688177 * 10**9\n",
    "synapticdensitiesI['L5'] = 0.09686697 * 10**9\n",
    "synapticdensitiesI['L6'] = 0.08262308 * 10**9\n",
    "\n",
    "synapticNumberMouse = 0\n",
    "synapticNumberperLayerMouse = {}\n",
    "for layer in ['L1','L2','L3','L4','L5','L6']:\n",
    "    print ('synaptic Number in Layer %s =  %.0f' % (layer,cellNumber(Layerthicknesses[layer], radius, synapticdensities[layer])))       \n",
    "    synapticNumberperLayerMouse[layer] = cellNumber(Layerthicknesses[layer], radius, synapticdensities[layer])\n",
    "    synapticNumberMouse = synapticNumberMouse + synapticNumberperLayerMouse[layer]  \n",
    "print ('synaptic Number in a cilinder (d = %d um) =  %.0f' % (2*radius,synapticNumberMouse))   \n",
    "print ('synapses per Neuron ~  %.1f' % (synapticNumberMouse/cellNumberMouse))   \n",
    "\n",
    "synapticNumberMouse = 0\n",
    "synapticNumberperLayerMouse = {}\n",
    "for layer in ['L1','L2','L3','L4','L5','L6']:\n",
    "    print ('synaptic Number in Layer %s =  %.0f' % (layer,cellNumber(Layerthicknesses[layer], radius, synapticdensitiesE[layer])))       \n",
    "    synapticNumberperLayerMouse[layer] = cellNumber(Layerthicknesses[layer], radius, synapticdensitiesE[layer])\n",
    "    synapticNumberMouse = synapticNumberMouse + synapticNumberperLayerMouse[layer]  \n",
    "print ('synaptic EXC Number in a cilinder (d = %d um) =  %.0f' % (2*radius,synapticNumberMouse))   \n",
    "print ('synapses EXC per Neuron ~  %.1f' % (synapticNumberMouse/cellNumberMouse))   \n",
    "\n",
    "synapticNumberMouse = 0\n",
    "synapticNumberperLayerMouse = {}\n",
    "for layer in ['L1','L2','L3','L4','L5','L6']:\n",
    "    print ('synaptic Number in Layer %s =  %.0f' % (layer,cellNumber(Layerthicknesses[layer], radius, synapticdensitiesI[layer])))       \n",
    "    synapticNumberperLayerMouse[layer] = cellNumber(Layerthicknesses[layer], radius, synapticdensitiesI[layer])\n",
    "    synapticNumberMouse = synapticNumberMouse + synapticNumberperLayerMouse[layer]  \n",
    "print ('synaptic INH Number in a cilinder (d = %d um) =  %.0f' % (2*radius,synapticNumberMouse))   \n",
    "print ('synapses INH per Neuron ~  %.1f' % (synapticNumberMouse/cellNumberMouse))   "
   ]
  },
  {
   "cell_type": "code",
   "execution_count": 14,
   "metadata": {},
   "outputs": [
    {
     "data": {
      "text/plain": [
       "0.09746162889231616"
      ]
     },
     "execution_count": 14,
     "metadata": {},
     "output_type": "execute_result"
    }
   ],
   "source": [
    "volume(y,radius)"
   ]
  },
  {
   "cell_type": "code",
   "execution_count": 15,
   "metadata": {},
   "outputs": [
    {
     "data": {
      "text/plain": [
       "1378.8"
      ]
     },
     "execution_count": 15,
     "metadata": {},
     "output_type": "execute_result"
    }
   ],
   "source": [
    "sizeY = 0\n",
    "for layer in ['L1','L2','L3','L4','L5','L6']:\n",
    "    sizeY = sizeY + Layerthicknesses[layer]\n",
    "sizeY"
   ]
  },
  {
   "cell_type": "code",
   "execution_count": 16,
   "metadata": {},
   "outputs": [],
   "source": [
    "# Load 55 Morphological Names and Cell pop numbers -> L1:6 L23:10 L4:12 L5:13 L6:14\n",
    "# Load 207 Morpho-electrical Names used to import the cells from 'cell_data/' -> L1:14 L23:43 L4:46 L5:52 L6:52\n",
    "RatL1Number = 0\n",
    "for popName in MtypePop[0:6]:\n",
    "    RatL1Number = RatL1Number + MtypeNumber[popName]\n",
    "RatL23Number = 0\n",
    "for popName in MtypePop[6:16]:\n",
    "    RatL23Number = RatL23Number + MtypeNumber[popName]\n",
    "RatL4Number = 0\n",
    "for popName in MtypePop[16:28]:\n",
    "    RatL4Number = RatL4Number + MtypeNumber[popName]\n",
    "RatL5Number = 0\n",
    "for popName in MtypePop[28:41]:\n",
    "    RatL5Number = RatL5Number + MtypeNumber[popName]    \n",
    "RatL6Number = 0\n",
    "for popName in MtypePop[41:55]:\n",
    "    RatL6Number = RatL6Number + MtypeNumber[popName]  "
   ]
  },
  {
   "cell_type": "code",
   "execution_count": 17,
   "metadata": {},
   "outputs": [
    {
     "data": {
      "text/plain": [
       "31346"
      ]
     },
     "execution_count": 17,
     "metadata": {},
     "output_type": "execute_result"
    }
   ],
   "source": [
    "cellNumberperLayerRat = {}\n",
    "cellNumberperLayerRat['L1'] = RatL1Number\n",
    "cellNumberperLayerRat['L23'] = RatL23Number\n",
    "cellNumberperLayerRat['L4'] = RatL4Number\n",
    "cellNumberperLayerRat['L5'] = RatL5Number\n",
    "cellNumberperLayerRat['L6'] = RatL6Number\n",
    "    \n",
    "RatL1Number + RatL23Number + RatL4Number + RatL5Number + RatL6Number"
   ]
  },
  {
   "cell_type": "code",
   "execution_count": 18,
   "metadata": {},
   "outputs": [],
   "source": [
    "# N = 0\n",
    "# MtypeNumberMouse = {}\n",
    "# for popName in MtypePop:    \n",
    "    \n",
    "#     layer = popName[0:2]\n",
    "    \n",
    "#     if layer == 'L2':\n",
    "#         ratio = cellNumberperLayerMouse['L23']/cellNumberperLayerRat['L23']\n",
    "#     else:\n",
    "#         ratio = cellNumberperLayerMouse[layer]/cellNumberperLayerRat[layer]\n",
    "\n",
    "#     MtypeNumberMouse[popName] = int(ratio*MtypeNumber[popName]+0.5)\n",
    "#     N = N + MtypeNumberMouse[popName]\n",
    "    \n",
    "#     print ('cell Number Mouse = %d (%s)' % (int(ratio*MtypeNumber[popName]+0.5),popName))    \n",
    "# print ('Number of cells = %d' % N)"
   ]
  },
  {
   "cell_type": "code",
   "execution_count": 19,
   "metadata": {
    "scrolled": true
   },
   "outputs": [
    {
     "name": "stdout",
     "output_type": "stream",
     "text": [
      "Number of cells = 7859\n"
     ]
    }
   ],
   "source": [
    "N = 0\n",
    "MEtypeNumberMouse = {}\n",
    "for popName in MEtypePop:    \n",
    "    \n",
    "    layer = popName[0:2]\n",
    "    \n",
    "    if layer == 'L2':\n",
    "        ratio = cellNumberperLayerMouse['L23']/cellNumberperLayerRat['L23']\n",
    "    else:\n",
    "        ratio = cellNumberperLayerMouse[layer]/cellNumberperLayerRat[layer]\n",
    "\n",
    "    MEtypeNumberMouse[popName] = int(ratio*MEtypeNumber[popName]+0.5)\n",
    "    if MEtypeNumberMouse[popName] == 0:\n",
    "        MEtypeNumberMouse[popName] = 1     \n",
    "    N = N + MEtypeNumberMouse[popName]\n",
    "    \n",
    "#     if popName in StochKvcells:  \n",
    "#         print ('cell Number Mouse = %d (%s)' % (MEtypeNumberMouse[popName],popName))    \n",
    "    \n",
    "print ('Number of cells = %d' % N)"
   ]
  },
  {
   "cell_type": "code",
   "execution_count": 20,
   "metadata": {},
   "outputs": [
    {
     "name": "stdout",
     "output_type": "stream",
     "text": [
      "Number of cells = 7859 \n"
     ]
    }
   ],
   "source": [
    "N = 0\n",
    "MtypeNumberMouse = {}\n",
    "for popName in MtypePop:    \n",
    "    MtypeNumberMouse[popName] = 0\n",
    "\n",
    "for line in metype_content.split('\\n')[:-1]:\n",
    "    metype, mtype, etype, n, m = line.split()    \n",
    "   \n",
    "    MtypeNumberMouse[mtype] = MtypeNumberMouse[mtype] + MEtypeNumberMouse[metype]\n",
    "    \n",
    "    N = N + MEtypeNumberMouse[metype]\n",
    "    \n",
    "print ('Number of cells = %d ' % (N))"
   ]
  },
  {
   "cell_type": "code",
   "execution_count": 21,
   "metadata": {},
   "outputs": [
    {
     "name": "stdout",
     "output_type": "stream",
     "text": [
      "cells with StochKv channel = 282 (3.59 percent) \n"
     ]
    }
   ],
   "source": [
    "StochKvcellsNumber = 0\n",
    "for metype in StochKvcells:    \n",
    "    StochKvcellsNumber = StochKvcellsNumber + MEtypeNumberMouse[metype]\n",
    "\n",
    "print('cells with StochKv channel = %d (%.2f percent) ' % (StochKvcellsNumber,100.0*StochKvcellsNumber/N))     "
   ]
  },
  {
   "cell_type": "code",
   "execution_count": 36,
   "metadata": {},
   "outputs": [
    {
     "name": "stdout",
     "output_type": "stream",
     "text": [
      "L23_SBC_bNAC219 L23_SBC bNAC219 15 41\n",
      "L23_SBC_cACint209 L23_SBC cACint209 15 41\n",
      "L23_SBC_dNAC222 L23_SBC dNAC222 11 41\n",
      "L4_SBC_bNAC219 L4_SBC bNAC219 6 18\n",
      "L4_SBC_cACint209 L4_SBC cACint209 7 18\n",
      "L4_SBC_dNAC222 L4_SBC dNAC222 5 18\n",
      "L5_SBC_bNAC219 L5_SBC bNAC219 2 6\n",
      "L5_SBC_cACint209 L5_SBC cACint209 2 6\n",
      "L5_SBC_dNAC222 L5_SBC dNAC222 2 6\n",
      "L6_SBC_bNAC219 L6_SBC bNAC219 5 14\n",
      "L6_SBC_cACint209 L6_SBC cACint209 5 14\n",
      "L6_SBC_dNAC222 L6_SBC dNAC222 4 14\n"
     ]
    },
    {
     "data": {
      "text/plain": [
       "{'bNAC219': 28, 'cACint209': 29, 'dNAC222': 22}"
      ]
     },
     "execution_count": 36,
     "metadata": {},
     "output_type": "execute_result"
    }
   ],
   "source": [
    "SBCetype = {}\n",
    "\n",
    "for line in metype_content.split('\\n')[:-1]:\n",
    "    metype, mtype, etype, n, m = line.split()    \n",
    "    if 'SBC' in metype:\n",
    "        SBCetype[etype] = 0\n",
    "        \n",
    "for line in metype_content.split('\\n')[:-1]:\n",
    "    metype, mtype, etype, n, m = line.split()    \n",
    "    if 'SBC' in metype:\n",
    "        SBCetype[etype] = SBCetype[etype] + MEtypeNumberMouse[metype]\n",
    "        print('%s %s %s %d %d' % (metype, mtype, etype, MEtypeNumberMouse[metype], MtypeNumberMouse[mtype]))\n",
    "        \n",
    "SBCetype       "
   ]
  },
  {
   "cell_type": "code",
   "execution_count": 35,
   "metadata": {},
   "outputs": [
    {
     "data": {
      "text/plain": [
       "{'bNAC219': 28, 'cACint209': 29, 'dNAC222': 22}"
      ]
     },
     "execution_count": 35,
     "metadata": {},
     "output_type": "execute_result"
    }
   ],
   "source": [
    "SBCetype"
   ]
  }
 ],
 "metadata": {
  "kernelspec": {
   "display_name": "Python 3",
   "language": "python",
   "name": "python3"
  },
  "language_info": {
   "codemirror_mode": {
    "name": "ipython",
    "version": 3
   },
   "file_extension": ".py",
   "mimetype": "text/x-python",
   "name": "python",
   "nbconvert_exporter": "python",
   "pygments_lexer": "ipython3",
   "version": "3.7.9"
  },
  "widgets": {
   "state": {
    "5d7515ec2d3c485faf342256962a9e1b": {
     "views": [
      {
       "cell_index": 55
      }
     ]
    },
    "67b10b1ff7bd4d00996c6f8c66ea2f54": {
     "views": [
      {
       "cell_index": 87
      }
     ]
    },
    "ac8a9e4ca55645a3828b4266fadf29a9": {
     "views": [
      {
       "cell_index": 41
      }
     ]
    }
   },
   "version": "1.2.0"
  }
 },
 "nbformat": 4,
 "nbformat_minor": 2
}
