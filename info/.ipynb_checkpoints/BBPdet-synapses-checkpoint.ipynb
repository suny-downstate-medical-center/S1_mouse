{
 "cells": [
  {
   "cell_type": "markdown",
   "metadata": {},
   "source": [
    "# Synapses properties of a S1 cell"
   ]
  },
  {
   "cell_type": "code",
   "execution_count": 1,
   "metadata": {},
   "outputs": [],
   "source": [
    "%matplotlib inline\n",
    "import matplotlib.pyplot as plt\n",
    "import numpy as np\n",
    "import os\n",
    "if 'DISPLAY' in os.environ:\n",
    "    del os.environ['DISPLAY']\n",
    "import sys"
   ]
  },
  {
   "cell_type": "code",
   "execution_count": 2,
   "metadata": {},
   "outputs": [
    {
     "name": "stdout",
     "output_type": "stream",
     "text": [
      "L5_UTPC_cADpyr232_3\n",
      "File content: -0.069092 0.1764612 0.1911663 0.2058714\n"
     ]
    }
   ],
   "source": [
    "rootFolder = '/home/fernando/S1_BBP/'\n",
    "os.chdir(rootFolder)\n",
    "\n",
    "folder = os.listdir('cell_data/')\n",
    "cellnumber=11\n",
    "print(folder[cellnumber])\n",
    "\n",
    "outFolder = rootFolder+'cell_data/'+folder[cellnumber]\n",
    "\n",
    "durationstim = 200\n",
    "delaystim = 70\n",
    "timesimulation = 1000\n",
    "\n",
    "with open(outFolder + '/current_amps.dat') as current_file:\n",
    "    current_content = current_file.read()\n",
    "\n",
    "print ('File content: %s' % current_content)\n",
    "holding_current, step1_current, step2_current, step3_current = [float(x) for x in current_content.split()]\n",
    "\n",
    "holding_current = 0  #\n",
    "step3_current = 0  #"
   ]
  },
  {
   "cell_type": "code",
   "execution_count": 3,
   "metadata": {},
   "outputs": [],
   "source": [
    "# !nrnivmodl mechanisms"
   ]
  },
  {
   "cell_type": "code",
   "execution_count": 4,
   "metadata": {},
   "outputs": [],
   "source": [
    "def loadTemplateName(cellnumber): \n",
    "    outFolder = rootFolder+'cell_data/'+folder[cellnumber]\n",
    "    f = open(outFolder+'/template.hoc', 'r')\n",
    "    for line in f.readlines():\n",
    "        if 'begintemplate' in line:\n",
    "            templatename = str(line)     \n",
    "    templatename=templatename[:-1]        \n",
    "    templatename=templatename[14:]\n",
    "    return templatename\n",
    "\n",
    "cellName = folder[cellnumber]\n",
    "cellTemplateName = loadTemplateName(cellnumber)"
   ]
  },
  {
   "cell_type": "code",
   "execution_count": 5,
   "metadata": {},
   "outputs": [
    {
     "name": "stdout",
     "output_type": "stream",
     "text": [
      "\t1 \n",
      "\t1 \n",
      "\t1 \n",
      "cADpyr232_L5_UTPC_d736225429[0]\n"
     ]
    }
   ],
   "source": [
    "os.chdir(rootFolder)\n",
    "\n",
    "from cellwrapper3 import loadCell\n",
    "cell=loadCell(cellName, cellTemplateName)\n",
    "\n",
    "soma = cell.soma[0]"
   ]
  },
  {
   "cell_type": "markdown",
   "metadata": {},
   "source": [
    "## Activating synapses\n",
    "Now let's define an _in vivo_-like stimulus, where input neurons are firing like Poisson processes with presynaptic morphology type (mtype) specific rates.  "
   ]
  },
  {
   "cell_type": "code",
   "execution_count": 6,
   "metadata": {
    "scrolled": false
   },
   "outputs": [
    {
     "name": "stdout",
     "output_type": "stream",
     "text": [
      "{'L1_DAC': 0, 'L1_NGC-DA': 1, 'L1_NGC-SA': 2, 'L1_HAC': 3, 'L1_DLAC': 4, 'L1_SLAC': 5, 'L23_PC': 6, 'L23_MC': 7, 'L23_BTC': 8, 'L23_DBC': 9, 'L23_BP': 10, 'L23_NGC': 11, 'L23_LBC': 12, 'L23_NBC': 13, 'L23_SBC': 14, 'L23_ChC': 15, 'L4_PC': 16, 'L4_SP': 17, 'L4_SS': 18, 'L4_MC': 19, 'L4_BTC': 20, 'L4_DBC': 21, 'L4_BP': 22, 'L4_NGC': 23, 'L4_LBC': 24, 'L4_NBC': 25, 'L4_SBC': 26, 'L4_ChC': 27, 'L5_TTPC1': 28, 'L5_TTPC2': 29, 'L5_UTPC': 30, 'L5_STPC': 31, 'L5_MC': 32, 'L5_BTC': 33, 'L5_DBC': 34, 'L5_BP': 35, 'L5_NGC': 36, 'L5_LBC': 37, 'L5_NBC': 38, 'L5_SBC': 39, 'L5_ChC': 40, 'L6_TPC_L1': 41, 'L6_TPC_L4': 42, 'L6_UTPC': 43, 'L6_IPC': 44, 'L6_BPC': 45, 'L6_MC': 46, 'L6_BTC': 47, 'L6_DBC': 48, 'L6_BP': 49, 'L6_NGC': 50, 'L6_LBC': 51, 'L6_NBC': 52, 'L6_SBC': 53, 'L6_ChC': 54}\n"
     ]
    }
   ],
   "source": [
    "with open('synapses/mtype_map.tsv') as mtype_map_file:\n",
    "    mtype_map_content = mtype_map_file.read()\n",
    "    \n",
    "mtype_map = {}\n",
    "for line in mtype_map_content.split('\\n')[:-1]:\n",
    "    n, mtype = line.split()\n",
    "    mtype_map[mtype] = int(n)\n",
    "    \n",
    "print (mtype_map)"
   ]
  },
  {
   "cell_type": "code",
   "execution_count": 7,
   "metadata": {},
   "outputs": [],
   "source": [
    "exc_cells = ['L23_PC', 'L4_PC', 'L4_SS', 'L4_SP', \n",
    "             'L5_TTPC1', 'L5_TTPC2', 'L5_STPC', 'L5_UTPC',\n",
    "             'L6_TPC_L1', 'L6_TPC_L4', 'L6_BPC', 'L6_IPC', 'L6_UTPC']\n",
    "for mtype in mtype_map:\n",
    "    if mtype in exc_cells:\n",
    "        freq = 0.0 # [Hz]\n",
    "    else:\n",
    "        freq = 0.0 # [Hz]"
   ]
  },
  {
   "cell_type": "code",
   "execution_count": 8,
   "metadata": {},
   "outputs": [],
   "source": [
    "parameters_name = {}\n",
    "\n",
    "parameters_name[0] = 'synapse_id'\n",
    "parameters_name[1] = 'pre_cell_id'\n",
    "parameters_name[2] = 'pre_mtype'\n",
    "parameters_name[3] = 'sectionlist_id'\n",
    "parameters_name[4] = 'sectionlist_index'\n",
    "parameters_name[5] = 'seg_x'\n",
    "parameters_name[6] = 'synapse_type'\n",
    "parameters_name[7] = 'dep'\n",
    "parameters_name[8] = 'fac'\n",
    "parameters_name[9] = 'use'\n",
    "parameters_name[10] = 'tau_d'\n",
    "parameters_name[11] = 'delay'\n",
    "parameters_name[12] = 'weight'"
   ]
  },
  {
   "cell_type": "code",
   "execution_count": 9,
   "metadata": {},
   "outputs": [
    {
     "name": "stdout",
     "output_type": "stream",
     "text": [
      "2460 13\n"
     ]
    }
   ],
   "source": [
    "with open('synapses/synapses.tsv') as mtype_map_file2:\n",
    "    mtype_map_content2 = mtype_map_file2.read()\n",
    "\n",
    "n = -1    \n",
    "parameters_syn = {}\n",
    "for line in mtype_map_content2.split('\\n')[:-1]:\n",
    "    if n < 0:\n",
    "        nsynapses, nparameters = [int(x) for x in line.split()]        \n",
    "        print (nsynapses, nparameters)\n",
    "    else:\n",
    "        n2 = 0\n",
    "        parameters_list = line.split()   \n",
    "        for parameter in parameters_list:\n",
    "            if n2 < 7:\n",
    "                prmtr = float(parameter)\n",
    "                parameters_syn[n,parameters_name[n2]] = int(prmtr)\n",
    "            else:\n",
    "                parameters_syn[n,parameters_name[n2]] = float(parameter)\n",
    "            n2 = n2 + 1\n",
    "    n = n + 1"
   ]
  },
  {
   "cell_type": "code",
   "execution_count": 10,
   "metadata": {},
   "outputs": [],
   "source": [
    "hotspot_synapses = []\n",
    "hotspot_netcons  = []\n",
    "hotspot_netstims = [] \n",
    "\n",
    "pre_mtypes_excinh = [] \n",
    "\n",
    "# for isynapse in range(nsynapses):\n",
    "for isynapse in range(1):\n",
    "    \n",
    "#Create sectionref to the section the synapse will be placed on\n",
    "    if parameters_syn[isynapse,'sectionlist_id'] == 0:\n",
    "        cell.soma[parameters_syn[isynapse,'sectionlist_index']]      \n",
    "#             sectionlist_name = \"somatic\"    \n",
    "    elif parameters_syn[isynapse,'sectionlist_id'] == 1:\n",
    "        cell.dend[parameters_syn[isynapse,'sectionlist_index']] \n",
    "#             sectionlist_name = \"basal\" \n",
    "    elif parameters_syn[isynapse,'sectionlist_id'] == 2:\n",
    "        cell.apic[parameters_syn[isynapse,'sectionlist_index']]    \n",
    "#             sectionlist_name = \"apical\" \n",
    "    elif parameters_syn[isynapse,'sectionlist_id'] == 3:\n",
    "        cell.axon[parameters_syn[isynapse,'sectionlist_index']]     \n",
    "#             sectionlist_name = \"axonal\"         \n",
    "    else:\n",
    "        print (\"Sectionlist_id %d not support\\n\" % parameters_syn[isynapse,'sectionlist_index'])   \n",
    "\n",
    "        \n",
    "# If synapse_type < 100 the synapse is inhibitory, otherwise excitatory\n",
    "    if parameters_syn[isynapse,'synapse_type'] < 100:\n",
    "        #synapse_type_name = \"inhibitory\"\n",
    "        hotspot_synapses.append(neuron.h.ProbGABAAB_EMS(parameters_syn[isynapse,'seg_x']))\n",
    "        hotspot_netstims.append(neuron.h.NetStim())\n",
    "        hotspot_netcons.append(neuron.h.NetCon(hotspot_netstims[isynapse],hotspot_synapses[isynapse]))\n",
    "        \n",
    "        hotspot_synapses[isynapse].tau_d_GABAA = parameters_syn[isynapse,'tau_d']\n",
    "        hotspot_synapses[isynapse].tau_r_GABAA = 0.2   #rng.lognormal(0.2, 0.1)   \n",
    "        hotspot_synapses[isynapse].tau_d_GABAB = 260.9\n",
    "        hotspot_synapses[isynapse].tau_r_GABAB  = 3.5\n",
    "        \n",
    "        hotspot_synapses[isynapse].Use = parameters_syn[isynapse,'use']     \n",
    "        hotspot_synapses[isynapse].Fac = parameters_syn[isynapse,'fac']     \n",
    "        hotspot_synapses[isynapse].Dep = parameters_syn[isynapse,'dep']     \n",
    "\n",
    "        hotspot_netcons[isynapse].weight[0] = parameters_syn[isynapse,'weight'] # strength of the synapse\n",
    "        hotspot_netcons[isynapse].delay = parameters_syn[isynapse,'delay'] \n",
    "        hotspot_netstims[isynapse].number   = 9e9 # number of synaptic activation\n",
    "        hotspot_netstims[isynapse].noise    = 1   # randomness\n",
    "        hotspot_netstims[isynapse].interval = 200  # mean time between spikes |200 ms = 5 Hz|\n",
    "        hotspot_netstims[isynapse].start = 0\n",
    "        \n",
    "    else:\n",
    "        #synapse_type_name = \"excitatory\"\n",
    "        hotspot_synapses.append(neuron.h.ProbAMPANMDA_EMS(parameters_syn[isynapse,'seg_x']))\n",
    "        hotspot_netstims.append(neuron.h.NetStim())\n",
    "        hotspot_netcons.append(neuron.h.NetCon(hotspot_netstims[isynapse],hotspot_synapses[isynapse]))\n",
    "        \n",
    "        hotspot_synapses[isynapse].tau_d_AMPA = parameters_syn[isynapse,'tau_d']  \n",
    "        hotspot_synapses[isynapse].tau_r_AMPA = 0.2\n",
    "        hotspot_synapses[isynapse].tau_r_NMDA = 0.29\n",
    "        hotspot_synapses[isynapse].tau_d_NMDA = 43        \n",
    "        \n",
    "        hotspot_synapses[isynapse].Use = parameters_syn[isynapse,'use']     \n",
    "        hotspot_synapses[isynapse].Fac = parameters_syn[isynapse,'fac']     \n",
    "        hotspot_synapses[isynapse].Dep = parameters_syn[isynapse,'dep']          \n",
    "        \n",
    "        hotspot_netcons[isynapse].weight[0] = parameters_syn[isynapse,'weight'] # strength of the synapse\n",
    "        hotspot_netcons[isynapse].delay = parameters_syn[isynapse,'delay'] \n",
    "        hotspot_netstims[isynapse].number   = 9e9 # number of synaptic activation\n",
    "        hotspot_netstims[isynapse].noise    = 1   # randomness\n",
    "        hotspot_netstims[isynapse].interval = 1000  # mean time between spikes |1000 ms = 1 Hz|\n",
    "        hotspot_netstims[isynapse].start = 0\n",
    "        "
   ]
  },
  {
   "cell_type": "code",
   "execution_count": 65,
   "metadata": {},
   "outputs": [],
   "source": [
    "hotspot_synapses[isynapse].tau_d_AMPA = 1.74\n",
    "hotspot_synapses[isynapse].tau_r_AMPA = 0.2\n",
    "hotspot_synapses[isynapse].tau_r_NMDA = 0.29\n",
    "hotspot_synapses[isynapse].tau_d_NMDA = 43   \n",
    "\n",
    "hotspot_synapses[isynapse].Use = 0.09\n",
    "hotspot_synapses[isynapse].Dep = 138.0\n",
    "hotspot_synapses[isynapse].Fac = 670.0\n",
    "\n",
    "hotspot_synapses[isynapse].Use = 0.5\n",
    "hotspot_synapses[isynapse].Dep = 671.0\n",
    "hotspot_synapses[isynapse].Fac = 17.0\n",
    "\n",
    "hotspot_netcons[isynapse].weight[0] = 0.43\n",
    "hotspot_netcons[isynapse].delay = 1.74\n",
    "hotspot_netstims[isynapse].number   = 9e9 # number of synaptic activation\n",
    "hotspot_netstims[isynapse].noise    = 0   # randomness\n",
    "hotspot_netstims[isynapse].interval = 1000  # mean time between spikes |1000 ms = 1 Hz|\n",
    "hotspot_netstims[isynapse].start = 200\n",
    "# parameters_syn"
   ]
  },
  {
   "cell_type": "code",
   "execution_count": 68,
   "metadata": {},
   "outputs": [
    {
     "name": "stdout",
     "output_type": "stream",
     "text": [
      "Changed dt\n"
     ]
    },
    {
     "data": {
      "image/png": "[encoded data removed]",
      "text/plain": [
       "<Figure size 1008x288 with 1 Axes>"
      ]
     },
     "metadata": {
      "needs_background": "light"
     },
     "output_type": "display_data"
    }
   ],
   "source": [
    "timesimulation = 10300\n",
    "plotvt(timesimulation)"
   ]
  },
  {
   "cell_type": "code",
   "execution_count": 69,
   "metadata": {
    "scrolled": true
   },
   "outputs": [
    {
     "name": "stdout",
     "output_type": "stream",
     "text": [
      "Changed dt\n"
     ]
    },
    {
     "data": {
      "image/png": "[encoded data removed]",
      "text/plain": [
       "<Figure size 1008x288 with 1 Axes>"
      ]
     },
     "metadata": {
      "needs_background": "light"
     },
     "output_type": "display_data"
    }
   ],
   "source": [
    "hotspot_synapses[isynapse].Dep = 138.0\n",
    "hotspot_synapses[isynapse].Fac = 670.0\n",
    "timesimulation = 10300\n",
    "plotvt(timesimulation)"
   ]
  },
  {
   "cell_type": "code",
   "execution_count": 36,
   "metadata": {},
   "outputs": [],
   "source": [
    "def plotvt(timesimulation):\n",
    "    \n",
    "    neuron.h.dt = 0.05\n",
    "    neuron.h.cvode_active(0)\n",
    "    neuron.h.tstop = timesimulation # ms\n",
    "\n",
    "    time = neuron.h.Vector()\n",
    "    voltage = neuron.h.Vector()\n",
    "    ik = neuron.h.Vector()\n",
    "\n",
    "\n",
    "    time.record(neuron.h._ref_t)\n",
    "    voltage.record(soma(.5)._ref_v);\n",
    "    ik.record(soma(.5)._ref_ik);\n",
    "\n",
    "    neuron.h.run()\n",
    "    \n",
    "    fontsiz=15\n",
    "    timeRange = [199, timesimulation]\n",
    "    ylim = [-73, -71]\n",
    "    figSize = (14,4)\n",
    "    fig = plt.figure(figsize=figSize)  \n",
    "\n",
    "    plt.ylabel('V (mV)', fontsize=fontsiz)\n",
    "    plt.xlabel('Time (ms)', fontsize=fontsiz)\n",
    "    plt.plot(time,voltage, 'k')\n",
    "    plt.xlim(timeRange)\n",
    "    plt.ylim(ylim)\n",
    "    plt.grid(True)\n",
    "    plt.ion()\n",
    "    plt.tight_layout()\n",
    "    plt.show()"
   ]
  }
 ],
 "metadata": {
  "kernelspec": {
   "display_name": "Python 3",
   "language": "python",
   "name": "python3"
  },
  "language_info": {
   "codemirror_mode": {
    "name": "ipython",
    "version": 3
   },
   "file_extension": ".py",
   "mimetype": "text/x-python",
   "name": "python",
   "nbconvert_exporter": "python",
   "pygments_lexer": "ipython3",
   "version": "3.7.9"
  },
  "widgets": {
   "state": {
    "5d7515ec2d3c485faf342256962a9e1b": {
     "views": [
      {
       "cell_index": 55
      }
     ]
    },
    "67b10b1ff7bd4d00996c6f8c66ea2f54": {
     "views": [
      {
       "cell_index": 87
      }
     ]
    },
    "ac8a9e4ca55645a3828b4266fadf29a9": {
     "views": [
      {
       "cell_index": 41
      }
     ]
    }
   },
   "version": "1.2.0"
  }
 },
 "nbformat": 4,
 "nbformat_minor": 2
}
