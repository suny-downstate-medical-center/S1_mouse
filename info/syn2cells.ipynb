{
 "cells": [
  {
   "cell_type": "code",
   "execution_count": 1,
   "metadata": {},
   "outputs": [],
   "source": [
    "import matplotlib\n",
    "import os\n",
    "os.chdir('../sim')"
   ]
  },
  {
   "cell_type": "code",
   "execution_count": 2,
   "metadata": {},
   "outputs": [],
   "source": [
    "# !nrnivmodl mod/"
   ]
  },
  {
   "cell_type": "code",
   "execution_count": 3,
   "metadata": {},
   "outputs": [],
   "source": [
    "\"\"\"\n",
    "cfg.py \n",
    "\n",
    "Simulation configuration for S1 model (using NetPyNE)\n",
    "This file has sim configs as well as specification for parameterized values in netParams.py \n",
    "\n",
    "Contributors: salvadordura@gmail.com, fernandodasilvaborges@gmail.com\n",
    "\"\"\"\n",
    "\n",
    "from netpyne import specs, sim\n",
    "import pickle, json\n",
    "import numpy as np\n",
    "\n",
    "%matplotlib inline\n",
    "\n",
    "cfg = specs.SimConfig()  \n",
    "\n",
    "#------------------------------------------------------------------------------\n",
    "#\n",
    "# SIMULATION CONFIGURATION\n",
    "#\n",
    "#------------------------------------------------------------------------------\n",
    "\n",
    "#------------------------------------------------------------------------------\n",
    "# Run parameters\n",
    "#------------------------------------------------------------------------------\n",
    "cfg.duration = 2.0*1e2 ## Duration of the sim, in ms  \n",
    "cfg.dt = 0.025\n",
    "cfg.seeds = {'conn': 4321, 'stim': 4321, 'loc': 4321} \n",
    "cfg.hParams = {'celsius': 34, 'v_init': -65}  \n",
    "cfg.verbose = False\n",
    "cfg.createNEURONObj = True\n",
    "cfg.createPyStruct = True  \n",
    "cfg.cvode_active = False\n",
    "cfg.cvode_atol = 1e-6\n",
    "cfg.cache_efficient = True\n",
    "cfg.printRunTime = 0.1\n",
    "\n",
    "cfg.includeParamsLabel = False\n",
    "cfg.printPopAvgRates = True\n",
    "\n",
    "cfg.checkErrors = False"
   ]
  },
  {
   "cell_type": "code",
   "execution_count": 4,
   "metadata": {},
   "outputs": [],
   "source": [
    "#------------------------------------------------------------------------------\n",
    "# Cells\n",
    "#------------------------------------------------------------------------------\n",
    "cfg.rootFolder = os.getcwd()\n",
    "\n",
    "cfg.importCellMod = 'pkl' \n",
    "cfg.celldiversity = True \n",
    "cfg.poptypeNumber = 61 # max 55 + 6\n",
    "cfg.celltypeNumber = 213 # max 207 + 6"
   ]
  },
  {
   "cell_type": "code",
   "execution_count": 5,
   "metadata": {},
   "outputs": [],
   "source": [
    "#------------------------------------------------------------------------------  \n",
    "# S1 Cells\n",
    "# Load 55 Morphological Names and Cell pop numbers -> L1:6 L23:10 L4:12 L5:13 L6:14\n",
    "# Load 207 Morpho-electrical Names used to import the cells from 'cell_data/' -> L1:14 L23:43 L4:46 L5:52 L6:52\n",
    "# Create [Morphological,Electrical] = number of cell metype in the sub-pop\n",
    "with open('../info/anatomy/S1-cells-distributions-Mouse.txt') as mtype_file:\n",
    "\tmtype_content = mtype_file.read()       \n",
    "\n",
    "cfg.popNumber = {}\n",
    "cfg.cellNumber = {} \n",
    "cfg.popLabel = {} \n",
    "popParam = []\n",
    "cellParam = []\n",
    "cfg.meParamLabels = {} \n",
    "for line in mtype_content.split('\\n')[:-1]:\n",
    "\tmetype, mtype, etype, n, m = line.split()\n",
    "\tcfg.cellNumber[metype] = int(n)\n",
    "\tcfg.popLabel[metype] = mtype\n",
    "\tcfg.popNumber[mtype] = int(m)\n",
    "\n",
    "\tif mtype not in popParam:\n",
    "\t\tpopParam.append(mtype)\n",
    "\tcellParam.append(metype)\n",
    "\n",
    "cfg.S1pops = popParam[0:55]\n",
    "cfg.S1cells = cellParam[0:207]"
   ]
  },
  {
   "cell_type": "code",
   "execution_count": 6,
   "metadata": {},
   "outputs": [],
   "source": [
    "#------------------------------------------------------------------------------  \n",
    "# Thalamic Cells\n",
    "\n",
    "cfg.thalamicpops = ['ss_RTN_o', 'ss_RTN_m', 'ss_RTN_i', 'VPL_sTC', 'VPM_sTC', 'POm_sTC_s1']\n",
    "\n",
    "cfg.cellNumber['ss_RTN_o'] = 382\n",
    "cfg.cellNumber['ss_RTN_m'] = 382\n",
    "cfg.cellNumber['ss_RTN_i'] = 765\n",
    "cfg.cellNumber['VPL_sTC'] = 656\n",
    "cfg.cellNumber['VPM_sTC'] = 839\n",
    "cfg.cellNumber['POm_sTC_s1'] = 685\n",
    "\n",
    "for mtype in cfg.thalamicpops: # No diversity for while\n",
    "\tmetype = mtype\n",
    "\tpopParam.append(mtype)\n",
    "\tcfg.popLabel[metype] = mtype\n",
    "\tcellParam.append(metype)\n",
    "\n",
    "\tcfg.popNumber[mtype] = cfg.cellNumber[metype]"
   ]
  },
  {
   "cell_type": "code",
   "execution_count": 7,
   "metadata": {},
   "outputs": [],
   "source": [
    "#------------------------------------------------------------------------------  \n",
    "cfg.popParamLabels = popParam[0:cfg.poptypeNumber] # to debug\n",
    "cfg.cellParamLabels = cellParam[0:cfg.celltypeNumber] # to debug"
   ]
  },
  {
   "cell_type": "code",
   "execution_count": 8,
   "metadata": {
    "scrolled": false
   },
   "outputs": [
    {
     "name": "stdout",
     "output_type": "stream",
     "text": [
      "L6_TPC_L4_cADpyr231 312 L6_TPC_L4 312\n",
      "VPM_sTC 839 VPM_sTC 839\n"
     ]
    }
   ],
   "source": [
    "subPopLabels = ['L6_TPC_L4', 'VPM_sTC']\n",
    "for metype in cfg.cellParamLabels:\n",
    "    if cfg.popLabel[metype] in subPopLabels:\n",
    "        print(metype,cfg.cellNumber[metype],cfg.popLabel[metype],cfg.popNumber[cfg.popLabel[metype]])"
   ]
  },
  {
   "cell_type": "code",
   "execution_count": 9,
   "metadata": {},
   "outputs": [],
   "source": [
    "#------------------------------------------------------------------------------  \n",
    "cfg.S1pops = ['L6_TPC_L4']\n",
    "cfg.S1cells = ['L6_TPC_L4_cADpyr231']\n",
    "cfg.thalamicpops = ['VPM_sTC']\n",
    "\n",
    "cfg.popParamLabels = subPopLabels\n",
    "cfg.cellParamLabels = ['L6_TPC_L4_cADpyr231','VPM_sTC']"
   ]
  },
  {
   "cell_type": "code",
   "execution_count": 10,
   "metadata": {},
   "outputs": [],
   "source": [
    "#------------------------------------------------------------------------------  \n",
    "# TO DEBUG - Create only one Cell per MEtype (675 S1 cells + 6 Th cells) in mouse\n",
    "cfg.oneCellperMEtype = True \n",
    "if cfg.oneCellperMEtype:\n",
    "\tcfg.popNumber = {}\n",
    "\tcfg.cellNumber = {} \n",
    "\tfor mtype in cfg.popParamLabels:\n",
    "\t\tcfg.popNumber[mtype] = 0\n",
    "\n",
    "\tfor line in mtype_content.split('\\n')[:-1]:\n",
    "\t\tmetype, mtype, etype, n, m = line.split()\n",
    "\t\tif mtype in subPopLabels:\n",
    "\t\t\tif int(n) < 5:\n",
    "\t\t\t\tcfg.cellNumber[metype] = int(n)\n",
    "\t\t\t\tcfg.popNumber[mtype] = cfg.popNumber[mtype] + int(n)\n",
    "\t\t\telse:\n",
    "\t\t\t\tcfg.cellNumber[metype] = 5\n",
    "\t\t\t\tcfg.popNumber[mtype] = cfg.popNumber[mtype] + 5\n",
    "\n",
    "\tfor mtype in cfg.thalamicpops:\n",
    "\t\tif mtype in subPopLabels:\n",
    "\t\t\tcfg.cellNumber[mtype] = 1\n",
    "\t\t\tcfg.popNumber[mtype] = cfg.cellNumber[mtype]"
   ]
  },
  {
   "cell_type": "code",
   "execution_count": 11,
   "metadata": {},
   "outputs": [
    {
     "data": {
      "text/plain": [
       "{'L6_TPC_L4_cADpyr231': 5, 'VPM_sTC': 1}"
      ]
     },
     "execution_count": 11,
     "metadata": {},
     "output_type": "execute_result"
    }
   ],
   "source": [
    "cfg.cellNumber"
   ]
  },
  {
   "cell_type": "code",
   "execution_count": 12,
   "metadata": {},
   "outputs": [],
   "source": [
    "#--------------------------------------------------------------------------\n",
    "# Recording \n",
    "#--------------------------------------------------------------------------\n",
    "cfg.allpops = cfg.popParamLabels\n",
    "cfg.cellsrec = 0\n",
    "if cfg.cellsrec == 0:  cfg.recordCells = cfg.allpops # record all cells\n",
    "elif cfg.cellsrec == 1: cfg.recordCells = [(pop,0) for pop in cfg.allpops] # record one cell of each pop\n",
    "\n",
    "cfg.recordTraces = {'V_soma': {'sec':'soma', 'loc':0.5, 'var':'v'}}  ## Dict with traces to record\n",
    "cfg.recordStim = False\t\t\t\n",
    "cfg.recordTime = False  \t\t\n",
    "cfg.recordStep = 0.1    "
   ]
  },
  {
   "cell_type": "code",
   "execution_count": 13,
   "metadata": {},
   "outputs": [],
   "source": [
    "#------------------------------------------------------------------------------\n",
    "# Saving\n",
    "#------------------------------------------------------------------------------\n",
    "cfg.simLabel = 'synapses'\n",
    "cfg.saveFolder = '../info/tests/'+cfg.simLabel\n",
    "# cfg.filename =                \t## Set file output name\n",
    "cfg.savePickle = False         \t## Save pkl file\n",
    "cfg.saveJson = True\t           \t## Save json file\n",
    "cfg.saveDataInclude = ['simConfig'] ## 'simData' , 'simConfig', 'netParams'\n",
    "cfg.backupCfgFile = None \t\t##  \n",
    "cfg.gatherOnlySimData = False\t##  \n",
    "cfg.saveCellSecs = False\t\t\t\n",
    "cfg.saveCellConns = True\t"
   ]
  },
  {
   "cell_type": "code",
   "execution_count": 14,
   "metadata": {},
   "outputs": [],
   "source": [
    "\"\"\"\n",
    "netParams.py\n",
    "\"\"\"\n",
    "# Network parameters\n",
    "netParams = specs.NetParams()  # object of class NetParams to store the network parameters\n",
    "\n",
    "netParams.scale = 1.0 # Scale factor for number of cells\n",
    "netParams.sizeX = 300.0 # x-dimension (horizontal length) size in um\n",
    "netParams.sizeY = 1378.8 # y-dimension (vertical height or cortical depth) size in um\n",
    "netParams.sizeZ = 300.0 # z-dimension (horizontal depth) size in um\n",
    "netParams.shape = 'cylinder' # cylindrical (column-like) volume"
   ]
  },
  {
   "cell_type": "code",
   "execution_count": 15,
   "metadata": {},
   "outputs": [],
   "source": [
    "#------------------------------------------------------------------------------\n",
    "# General network parameters\n",
    "#------------------------------------------------------------------------------\n",
    "# Layer\t     height\t  from\t  to\n",
    "# L1         0.089      0.000\t0.089\n",
    "# L2         0.070      0.089\t0.159\n",
    "# L3         0.128      0.159\t0.286\n",
    "# L4         0.134      0.286\t0.421\n",
    "# L5         0.263      0.421\t0.684\n",
    "# L6         0.316      0.684\t1.000\t\t\t \n",
    "# L23        0.198      0.089\t0.286\n",
    "# All     1378.8 um\n",
    "\n",
    "cellModels = ['HH_full']\n",
    "Epops = ['L23_PC', 'L4_PC', 'L4_SS', 'L4_SP', \n",
    "             'L5_TTPC1', 'L5_TTPC2', 'L5_STPC', 'L5_UTPC',\n",
    "             'L6_TPC_L1', 'L6_TPC_L4', 'L6_BPC', 'L6_IPC', 'L6_UTPC']\n",
    "Ipops = []\n",
    "for popName in cfg.S1pops:\n",
    "    if popName not in Epops:\n",
    "        Ipops.append(popName)\n",
    "\n",
    "Epops = []\n",
    "for popName in cfg.S1pops:\n",
    "    if popName not in Ipops:\n",
    "        Epops.append(popName)   \n",
    "\n",
    "layer = {'1':[0.0, 0.089], '2': [0.089,0.159], '3': [0.159,0.286], '23': [0.089,0.286], '4':[0.286,0.421], '5': [0.421,0.684], '6': [0.684,1.0], \n",
    "'longS1': [2.2,2.3], 'longS2': [2.3,2.4]}  # normalized layer boundaries\n",
    "\n",
    "#Th pop\n",
    "ymin={'ss_RTN_o': 1688, 'ss_RTN_m': 1766, 'ss_RTN_i': 1844, 'VPL_sTC': 2000, 'VPM_sTC': 2156, 'POm_sTC_s1': 2312}\n",
    "ymax={'ss_RTN_o': 1766, 'ss_RTN_m': 1844, 'ss_RTN_i': 2000, 'VPL_sTC': 2156, 'VPM_sTC': 2312, 'POm_sTC_s1': 2624}"
   ]
  },
  {
   "cell_type": "code",
   "execution_count": 16,
   "metadata": {},
   "outputs": [],
   "source": [
    "#------------------------------------------------------------------------------\n",
    "# General connectivity parameters\n",
    "#------------------------------------------------------------------------------\n",
    "netParams.defaultThreshold = -10.0 # spike threshold, 10 mV is NetCon default, lower it for all cells\n",
    "netParams.defaultDelay = 0.1 # default conn delay (ms)(M1: 2.0 ms)\n",
    "netParams.propVelocity = 300.0 #  300 μm/ms (Stuart et al., 1997)(M1: 500.0um/ms)\n",
    "netParams.scaleConnWeight = 0.001 # weight conversion factor (from nS to uS)\n",
    "netParams.scaleConnWeightNetStims = 0.001  # weight conversion factor (from nS to uS)"
   ]
  },
  {
   "cell_type": "code",
   "execution_count": 17,
   "metadata": {},
   "outputs": [],
   "source": [
    "#------------------------------------------------------------------------------\n",
    "# Population parameters\n",
    "#------------------------------------------------------------------------------\n",
    "## S1\n",
    "cfg.scaleDensity = 1.0\n",
    "\n",
    "for popName in cfg.S1pops:\n",
    "\tlayernumber = popName[1:2]\n",
    "\tif layernumber == '2':\n",
    "\t\tnetParams.popParams[popName] = {'cellType': popName, 'cellModel': 'HH_full', 'ynormRange': layer['23'], \n",
    "                                        'numCells': int(np.ceil(cfg.scaleDensity*cfg.popNumber[popName])), 'diversity': True}\n",
    "\telse:\n",
    "\t\tnetParams.popParams[popName] = {'cellType': popName, 'cellModel': 'HH_full', 'ynormRange': layer[layernumber], \n",
    "                                        'numCells': int(np.ceil(cfg.scaleDensity*cfg.popNumber[popName])), 'diversity': True}\n",
    "\n",
    "## THALAMIC POPULATIONS (from prev model)\n",
    "for popName in cfg.thalamicpops:\n",
    "    if 'RTN' in popName: # inhibitory - RTN\n",
    "        ThcellType = 'sRE_cell'\n",
    "    else: # excitatory\n",
    "        ThcellType = 'sTC_cell'    \n",
    "    netParams.popParams[popName] = {'cellType': ThcellType, 'cellModel': 'HH_full', 'yRange': [ymin[popName], ymax[popName]],\n",
    "                                        'numCells':  int(np.ceil(cfg.scaleDensity*cfg.popNumber[popName])), 'diversity': False}"
   ]
  },
  {
   "cell_type": "code",
   "execution_count": 18,
   "metadata": {},
   "outputs": [],
   "source": [
    "## S1 cell property rules\n",
    "cellnumber = 0    \n",
    "for cellName in cfg.S1cells:\n",
    "    \n",
    "    if cfg.cellNumber[cellName] < 5:\n",
    "        morphoNumbers = cfg.cellNumber[cellName]\n",
    "    else:\n",
    "        morphoNumbers = 5\n",
    "    \n",
    "    popName = cfg.popLabel[cellName]\n",
    "    cellFraction = 1.0*cfg.cellNumber[cellName]/(morphoNumbers*cfg.popNumber[popName])\n",
    "    \n",
    "    for morphoNumber in range(morphoNumbers):\n",
    "        cellMe = cellName + '_' + str(morphoNumber+1)\n",
    "        ## Load cell rules previously saved using netpyne format\n",
    "        if cfg.importCellMod == 'pkl':\n",
    "            netParams.loadCellParamsRule(label = cellMe, fileName = 'cell_data/' + cellMe + '/' + cellMe + '_cellParams.pkl')    \n",
    "            netParams.renameCellParamsSec(label = cellMe, oldSec = 'soma_0', newSec = 'soma')\n",
    "\n",
    "        cellRule = {'conds': {'cellType': popName}, 'diversityFraction': cellFraction, 'secs': {}}  # cell rule dict\n",
    "        cellRule['secs'] = netParams.cellParams[cellMe]['secs']     \n",
    "        cellRule['conds'] = netParams.cellParams[cellMe]['conds']    \n",
    "        cellRule['conds']['cellType'] = popName\n",
    "        cellRule['globals'] = netParams.cellParams[cellMe]['globals']       \n",
    "        cellRule['secLists'] = netParams.cellParams[cellMe]['secLists']                 \n",
    "        cellRule['secLists']['all'][0] = 'soma' # replace 'soma_0'\n",
    "        cellRule['secLists']['somatic'][0]  = 'soma' # replace 'soma_0'\n",
    "                              \n",
    "        cellRule['secLists']['spiny'] = {}\n",
    "        cellRule['secLists']['spinyEE'] = {}\n",
    "\n",
    "        nonSpiny = ['axon_0', 'axon_1']\n",
    "        cellRule['secLists']['spiny'] = [sec for sec in cellRule['secLists']['all'] if sec not in nonSpiny]\n",
    "        nonSpinyEE = ['axon_0', 'axon_1', 'soma']\n",
    "        cellRule['secLists']['spinyEE'] = [sec for sec in cellRule['secLists']['all'] if sec not in nonSpinyEE]\n",
    "\n",
    "        #-----------------------------------------------------------------------------------#\n",
    "        cfg.reducedtest = False    \n",
    "        if cfg.reducedtest:\n",
    "            cellRule['secs'] = {}\n",
    "            cellRule['secs']['soma'] = netParams.cellParams[cellMe]['secs']['soma']\n",
    "            # cellRule['secs']['dend_0'] = netParams.cellParams[cellMe]['secs']['dend_0']\n",
    "            # cellRule['secs']['axon_0']  = netParams.cellParams[cellMe]['secs']['axon_0']\n",
    "            # cellRule['secs']['axon_1'] = netParams.cellParams[cellMe]['secs']['axon_1']\n",
    "            \n",
    "            # if 'apic_0' in cellRule['secLists']['apical']:\n",
    "            #     cellRule['secs']['apic_0']  = netParams.cellParams[cellMe]['secs']['apic_0']\n",
    "            #     cellRule['secLists']['spiny'] = ['soma','dend_0','apic_0']\n",
    "            #     cellRule['secLists']['spinyEE'] = ['dend_0','apic_0']\n",
    "            #     cellRule['secLists']['all'] = ['soma','dend_0','apic_0','axon_0', 'axon_1']\n",
    "            #     cellRule['secLists']['apical'] = ['apic_0']\n",
    "            #     cellRule['secLists']['basal'] = ['dend_0']\n",
    "            # else:\n",
    "            #     cellRule['secLists']['spiny'] = ['soma','dend_0']\n",
    "            #     cellRule['secLists']['spinyEE'] = ['dend_0']\n",
    "            #     cellRule['secLists']['all'] = ['soma','dend_0','axon_0', 'axon_1']\n",
    "            #     cellRule['secLists']['basal'] = ['dend_0']    \n",
    "\n",
    "            # only soma to test the net\n",
    "            cellRule['secLists']['spiny'] = ['soma']\n",
    "            cellRule['secLists']['spinyEE'] = ['soma']\n",
    "            cellRule['secLists']['all'] = ['soma']\n",
    "            cellRule['secLists']['basal'] = ['soma']    \n",
    "        #-----------------------------------------------------------------------------------#\n",
    "        netParams.cellParams[cellMe] = cellRule   # add dict to list of cell params   \n",
    "        cellnumber=cellnumber+1"
   ]
  },
  {
   "cell_type": "code",
   "execution_count": 19,
   "metadata": {},
   "outputs": [],
   "source": [
    "## Th cell property rules\n",
    "# JSON FILES FROM A1 WITH UPDATED DYNAMICS\n",
    "#     # # --- VL - Exc --- #\n",
    "netParams.loadCellParamsRule(label='sTC_cell', fileName='cells/sTC_jv_00.json')  # Load cellParams for each of the above cell subtype\n",
    "netParams.cellParams['sTC_cell']['conds']={}\n",
    "\n",
    "#     # --- RTN - Inh --- #\n",
    "netParams.loadCellParamsRule(label='sRE_cell', fileName='cells/sRE_jv_00.json')  # Load cellParams for each of the above cell subtype\n",
    "netParams.cellParams['sRE_cell']['conds']={}"
   ]
  },
  {
   "cell_type": "code",
   "execution_count": 20,
   "metadata": {},
   "outputs": [],
   "source": [
    "#------------------------------------------------------------------------------\n",
    "# Synaptic mechanism parameters  - mods from M1 detailed\n",
    "#------------------------------------------------------------------------------\n",
    "## S1\n",
    "netParams.synMechParams['AMPA'] = {'mod':'MyExp2SynBB', 'tau1': 0.2, 'tau2': 1.74, 'e': 0}\n",
    "netParams.synMechParams['NMDA'] = {'mod': 'MyExp2SynNMDABB', 'tau1NMDA': 0.29, 'tau2NMDA': 43, 'e': 0}\n",
    "netParams.synMechParams['GABAA6'] = {'mod':'MyExp2SynBB', 'tau1': 0.2, 'tau2': 6.44, 'e': -80}\n",
    "netParams.synMechParams['GABAA'] = {'mod':'MyExp2SynBB', 'tau1': 0.2, 'tau2': 8.3, 'e': -80}\n",
    "netParams.synMechParams['GABAA10'] = {'mod':'MyExp2SynBB', 'tau1': 0.2, 'tau2': 10.4, 'e': -80}\n",
    "netParams.synMechParams['GABAB'] = {'mod':'MyExp2SynBB', 'tau1': 3.5, 'tau2': 260.9, 'e': -93} \n",
    "\n",
    "ESynMech = ['AMPA', 'NMDA']\n",
    "ISynMech = ['GABAA', 'GABAB']\n",
    "ISynMech6 = ['GABAA6', 'GABAB']\n",
    "ISynMech10 = ['GABAA10', 'GABAB']\n",
    "\n",
    "## Th\n",
    "netParams.synMechParams['NMDA_Th']             = {'mod': 'MyExp2SynNMDABB',    'tau1NMDA': 15, 'tau2NMDA': 150,                'e': 0}\n",
    "netParams.synMechParams['AMPA_Th']             = {'mod': 'MyExp2SynBB',        'tau1': 0.05,   'tau2': 5.3, 'e': 0}\n",
    "netParams.synMechParams['GABAB_Th']            = {'mod': 'MyExp2SynBB',        'tau1': 3.5,    'tau2': 260.9,                  'e': -93} \n",
    "netParams.synMechParams['GABAA_Th']            = {'mod': 'MyExp2SynBB',        'tau1': 0.07,   'tau2': 18.2,                   'e': -80}\n",
    "netParams.synMechParams['GABAASlow_Th']        = {'mod': 'MyExp2SynBB',        'tau1': 2,      'tau2': 100,                    'e': -80}\n",
    "netParams.synMechParams['GABAASlowSlow_Th']    = {'mod': 'MyExp2SynBB',        'tau1': 200,    'tau2': 400,                    'e': -80}\n",
    "\n",
    "ESynMech_Th    = ['AMPA_Th', 'NMDA_Th']\n",
    "SOMESynMech_Th = ['GABAASlow_Th','GABAB_Th']\n",
    "SOMISynMech_Th = ['GABAASlow_Th']\n",
    "PVSynMech_Th   = ['GABAA_Th']\n",
    "NGFSynMech_Th  = ['GABAA_Th', 'GABAB_Th']"
   ]
  },
  {
   "cell_type": "code",
   "execution_count": 21,
   "metadata": {},
   "outputs": [],
   "source": [
    "#------------------------------------------------------------------------------\n",
    "# load data from S1 conn pre-processing file \n",
    "#------------------------------------------------------------------------------\n",
    "with open('conn/conn.pkl', 'rb') as fileObj: connData = pickle.load(fileObj)\n",
    "\n",
    "lmat = connData['lmat']\n",
    "a0mat = connData['a0mat']\n",
    "d0 = connData['d0']\n",
    "dfinal = connData['dfinal']\n",
    "pmat = {}\n",
    "pmat[12.5] = connData['pmat12um']\n",
    "pmat[25] = connData['pmat25um']\n",
    "pmat[50] = connData['pmat50um']\n",
    "pmat[75] = connData['pmat75um']\n",
    "pmat[100] = connData['pmat100um']\n",
    "pmat[125] = connData['pmat125um']\n",
    "pmat[150] = connData['pmat150um']\n",
    "pmat[175] = connData['pmat175um']\n",
    "pmat[200] = connData['pmat200um'] #max value for d0=200\n",
    "\n",
    "synperconnNumber = connData['synperconnNumber']\n",
    "connNumber = connData['connNumber']\n",
    "decay = connData['decay']\n",
    "gsyn = connData['gsyn']\n",
    "use = connData['use']"
   ]
  },
  {
   "cell_type": "code",
   "execution_count": 22,
   "metadata": {},
   "outputs": [],
   "source": [
    "#------------------------------------------------------------------------------\n",
    "# S1 Local connectivity parameters \n",
    "#------------------------------------------------------------------------------\n",
    "##S1\n",
    "cfg.addConn = True\n",
    "\n",
    "cfg.synWeightFractionEE = [1.0, 1.0] # E -> E AMPA to NMDA ratio\n",
    "cfg.synWeightFractionEI = [1.0, 1.0] # E -> I AMPA to NMDA ratio\n",
    "cfg.synWeightFractionII = [1.0, 1.0]  # I -> I GABAA to GABAB ratio\n",
    "cfg.synWeightFractionIE = [1.0, 1.0]  # I -> E GABAA to GABAB ratio\n",
    "cfg.EEGain = 1.0\n",
    "cfg.EIGain = 1.0\n",
    "cfg.IIGain = 1.0\n",
    "cfg.IEGain = 1.0\n",
    "\n",
    "\n",
    "prob = 1.0 # test\n",
    "\n",
    "if cfg.addConn:      \n",
    "# I -> I\n",
    "    for pre in Ipops:\n",
    "        for post in Ipops:\n",
    "            if float(connNumber[pre][post]) > 0:        \n",
    "                \n",
    "                if decay[pre][post] > 10.0:\n",
    "                    synMechType =  ISynMech10\n",
    "                elif decay[pre][post] < 7.0:\n",
    "                    synMechType =  ISynMech6\n",
    "                else:\n",
    "                    synMechType =  ISynMech\n",
    "\n",
    "                netParams.connParams['II_'+pre+'_'+post] = { \n",
    "                    'preConds': {'pop': pre}, \n",
    "                    'postConds': {'pop': post},\n",
    "                    'synMech': synMechType,\n",
    "                    'probability': prob,\n",
    "                    'weight': gsyn[pre][post] * cfg.IIGain, \n",
    "                    'synMechWeightFactor': cfg.synWeightFractionII,\n",
    "                    'delay': 'defaultDelay+dist_3D/propVelocity',\n",
    "                    'synsPerConn': int(synperconnNumber[pre][post]+0.5),\n",
    "                    'sec': 'spiny'}       \n",
    "## I -> E\n",
    "    for pre in Ipops:\n",
    "        for post in Epops:\n",
    "            if float(connNumber[pre][post]) > 0:        \n",
    "\n",
    "                if decay[pre][post] > 10.0:\n",
    "                    synMechType =  ISynMech10\n",
    "                elif decay[pre][post] < 7.0:\n",
    "                    synMechType =  ISynMech6\n",
    "                else:\n",
    "                    synMechType =  ISynMech\n",
    "\n",
    "                netParams.connParams['IE_'+pre+'_'+post] = { \n",
    "                    'preConds': {'pop': pre}, \n",
    "                    'postConds': {'pop': post},\n",
    "                    'synMech': synMechType,\n",
    "                    'probability': prob,\n",
    "                    'weight': gsyn[pre][post] * cfg.IEGain, \n",
    "                    'synMechWeightFactor': cfg.synWeightFractionIE,\n",
    "                    'delay': 'defaultDelay+dist_3D/propVelocity',\n",
    "                    'synsPerConn': int(synperconnNumber[pre][post]+0.5),\n",
    "                    'sec': 'spiny'}     \n",
    "## E -> E\n",
    "    for pre in Epops:\n",
    "        for post in Epops:\n",
    "            if float(connNumber[pre][post]) > 0:  \n",
    "                \n",
    "                netParams.connParams['EE_'+pre+'_'+post] = { \n",
    "                    'preConds': {'pop': pre}, \n",
    "                    'postConds': {'pop': post},\n",
    "                    'synMech': ESynMech,\n",
    "                    'probability': prob, \n",
    "                    'weight': gsyn[pre][post] * cfg.EEGain, \n",
    "                    'synMechWeightFactor': cfg.synWeightFractionEE,\n",
    "                    'delay': 'defaultDelay+dist_3D/propVelocity',\n",
    "                    'synsPerConn': int(synperconnNumber[pre][post]+0.5),\n",
    "                    'sec': 'spinyEE'}    \n",
    "# ## E -> I\n",
    "    for pre in Epops:\n",
    "        for post in Ipops:\n",
    "            if float(connNumber[pre][post]) > 0:        \n",
    "                \n",
    "                netParams.connParams['EI_'+pre+'_'+post] = { \n",
    "                    'preConds': {'pop': pre}, \n",
    "                    'postConds': {'pop': post},\n",
    "                    'synMech': ESynMech,\n",
    "                    'probability': prob, \n",
    "                    'weight': gsyn[pre][post] * cfg.EIGain, \n",
    "                    'synMechWeightFactor': cfg.synWeightFractionEI,\n",
    "                    'delay': 'defaultDelay+dist_3D/propVelocity',\n",
    "                    'synsPerConn': int(synperconnNumber[pre][post]+0.5),\n",
    "                    'sec': 'spiny'}    "
   ]
  },
  {
   "cell_type": "code",
   "execution_count": 23,
   "metadata": {},
   "outputs": [],
   "source": [
    "#------------------------------------------------------------------------------\n",
    "# Spontaneous synapses + background - data from Rat\n",
    "#------------------------------------------------------------------------------\n",
    "cfg.addStimSynS1 = 1\n",
    "cfg.rateStimE = 6.0\n",
    "cfg.rateStimI = 9.0\n",
    "\n",
    "#------------------------------------------------------------------------------\n",
    "# NetStim inputs to simulate Spontaneous synapses + background in S1 neurons - data from Rat\n",
    "#------------------------------------------------------------------------------\n",
    "SourcesNumber = 5 # for each post Mtype - sec distribution\n",
    "synperNeuronStimI = connData['synperNeuronStimI']\n",
    "synperNeuronStimE = connData['synperNeuronStimE']\n",
    "GsynStimI = connData['GsynStimI']\n",
    "GsynStimE = connData['GsynStimE']\n",
    "   \n",
    "if cfg.addStimSynS1:      \n",
    "    for post in Ipops + Epops:\n",
    "\n",
    "        synperNeuron = synperNeuronStimI[post]\n",
    "        ratespontaneous = cfg.rateStimI\n",
    "        for qSnum in range(SourcesNumber):\n",
    "            ratesdifferentiation = (0.8 + 0.4*qSnum/(SourcesNumber-1)) * (synperNeuron*ratespontaneous)/SourcesNumber\n",
    "            netParams.stimSourceParams['StimSynS1_S_all_INH->' + post + '_' + str(qSnum)] = {'type': 'NetStim', 'rate': ratesdifferentiation, 'noise': 1.0}\n",
    "\n",
    "        synperNeuron = synperNeuronStimE[post]\n",
    "        ratespontaneous = cfg.rateStimE\n",
    "        for qSnum in range(SourcesNumber):\n",
    "            ratesdifferentiation = (0.8 + 0.4*qSnum/(SourcesNumber-1)) * (synperNeuron*ratespontaneous)/SourcesNumber\n",
    "            netParams.stimSourceParams['StimSynS1_S_all_EXC->' + post + '_' + str(qSnum)] = {'type': 'NetStim', 'rate': ratesdifferentiation, 'noise': 1.0}\n",
    "            \n",
    "    #------------------------------------------------------------------------------\n",
    "    for post in Epops:\n",
    "        for qSnum in range(SourcesNumber):\n",
    "            netParams.stimTargetParams['StimSynS1_T_all_EXC->' + post + '_' + str(qSnum)] = {\n",
    "                'source': 'StimSynS1_S_all_EXC->' + post + '_' + str(qSnum), \n",
    "                'conds': {'cellType': post}, \n",
    "                'ynorm':[0,1], \n",
    "                'sec': 'spinyEE', \n",
    "                'loc': 0.5, \n",
    "                'synMechWeightFactor': [1.0],\n",
    "                'weight': GsynStimE[post],\n",
    "                'delay': 0.1, \n",
    "                'synMech': 'AMPA'}\n",
    "\n",
    "    for post in Ipops:\n",
    "        for qSnum in range(SourcesNumber):\n",
    "            netParams.stimTargetParams['StimSynS1_T_all_EXC->' + post + '_' + str(qSnum)] = {\n",
    "                'source': 'StimSynS1_S_all_EXC->' + post + '_' + str(qSnum), \n",
    "                'conds': {'cellType': post}, \n",
    "                'ynorm':[0,1], \n",
    "                'sec': 'spiny', \n",
    "                'loc': 0.5, \n",
    "                'synMechWeightFactor': [1.0],\n",
    "                'weight': GsynStimE[post],\n",
    "                'delay': 0.1, \n",
    "                'synMech': 'AMPA'}\n",
    "\n",
    "    for post in Epops+Ipops:\n",
    "        for qSnum in range(SourcesNumber):\n",
    "            netParams.stimTargetParams['StimSynS1_T_all_INH->' + post + '_' + str(qSnum)] = {\n",
    "                'source': 'StimSynS1_S_all_INH->' + post + '_' + str(qSnum), \n",
    "                'conds': {'cellType': post}, \n",
    "                'ynorm':[0,1], \n",
    "                'sec': 'spiny', \n",
    "                'loc': 0.5, \n",
    "                'synMechWeightFactor': [1.0],\n",
    "                'weight': GsynStimI[post],\n",
    "                'delay': 0.1, \n",
    "                'synMech': 'GABAA'}"
   ]
  },
  {
   "cell_type": "code",
   "execution_count": 24,
   "metadata": {},
   "outputs": [],
   "source": [
    "#------------------------------------------------------------------------------\n",
    "# Th-Th connectivity parameters\n",
    "#------------------------------------------------------------------------------\n",
    "cfg.connectTh = True\n",
    "cfg.connect_RTN_RTN     = True\n",
    "cfg.connect_TC_RTN      = True\n",
    "cfg.connect_RTN_TC      = True\n",
    "\n",
    "# parameters tuned in (simDate = '2021_04_16' / simCode = 'jv019' - 'stabilizing the Firing rates of the model')\n",
    "cfg.yConnFactor             = 10 # y-tolerance form connection distance based on the x and z-plane radial tolerances (1=100%; 2=50%; 5=20%; 10=10%)\n",
    "cfg.connProb_RTN_RTN        = 1.0 #None \n",
    "cfg.connWeight_RTN_RTN      = 100.0*2.0 # optimized to increase synchrony in (simDate = '2021_04_30' / simCode = 't_allpops_012') - old value: 0.5\n",
    "cfg.connProb_TC_RTN         = 0.75 #None\n",
    "cfg.connWeight_TC_RTN       = 100.0*1.5 #0.5\n",
    "cfg.connProb_RTN_TC         = 0.75 #None\n",
    "cfg.connWeight_RTN_TC       = 100.0*0.25 # optimized to increase synchrony in (simDate = '2021_04_30' / simCode = 't_allpops_013') - old value: 0.83\n",
    "\n",
    "cfg.divergenceHO = 10\n",
    "cfg.connLenghtConst = 200\n",
    "\n",
    "if cfg.connectTh:\n",
    "    ## load data from conn pre-processing file\n",
    "    with open('conn/conn_Th.pkl', 'rb') as fileObj: connData = pickle.load(fileObj)\n",
    "    pmat = connData['pmat']\n",
    "    lmat = connData['lmat']\n",
    "    wmat = connData['wmat']\n",
    "    cmat = connData['cmat']\n",
    "    \n",
    "    pops_TC     = ['VPL_sTC','VPM_sTC', 'POm_sTC_s1']\n",
    "    pops_RTN    = ['ss_RTN_o', 'ss_RTN_m', 'ss_RTN_i']\n",
    "    pops_FO     = ['VPL_sTC','VPM_sTC']\n",
    "    pops_HO     = ['POm_sTC_s1']\n",
    "\n",
    "    # Intrathalamic \n",
    "    if cfg.connect_RTN_RTN:        \n",
    "        for pre in pops_RTN:\n",
    "            for post in pops_RTN:\n",
    "                if pre in pmat and post in pmat[pre]:\n",
    "                    if pre in cfg.thalamicpops and post in cfg.thalamicpops:\n",
    "                        pmat[pre][post]=cfg.connProb_RTN_RTN\n",
    "                        wmat[pre][post]=cfg.connWeight_RTN_RTN\n",
    "\n",
    "                        l = cfg.connLenghtConst\n",
    "                        syn = PVSynMech_Th # only GABA A\n",
    "                        synWeightFactor = [1.0]\n",
    "                        netParams.connParams['thal_'+pre+'_'+post] = { \n",
    "                                        'preConds': {'pop': pre}, \n",
    "                                        'postConds': {'pop': post},\n",
    "                                        'synMech': syn,\n",
    "                                        'probability':' %f * exp(-dist_3D/%f)*(dist_2D<%f)*(dist_y<(%f/%f))' % (pmat[pre][post], l, cmat[pre][post], cmat[pre][post],cfg.yConnFactor),\n",
    "                                        'weight': wmat[pre][post], \n",
    "                                        'synMechWeightFactor': synWeightFactor,\n",
    "                                        'delay': 'defaultDelay+dist_3D/propVelocity',\n",
    "                                        'synsPerConn': 1,\n",
    "                                        'sec': 'soma'}\n",
    "\n",
    "    if cfg.connect_TC_RTN:\n",
    "        for pre in pops_TC:\n",
    "            for post in pops_RTN:\n",
    "                if pre in pmat and post in pmat[pre]:\n",
    "                    if pre in cfg.thalamicpops and post in cfg.thalamicpops:\n",
    "                        pmat[pre][post]=cfg.connProb_TC_RTN\n",
    "                        wmat[pre][post]=cfg.connWeight_TC_RTN\n",
    "\n",
    "                        l = cfg.connLenghtConst\n",
    "                        y_thresh    = cmat[pre][post]/5\n",
    "\n",
    "                        syn = ['AMPA_Th'] # AMPA\n",
    "                        synWeightFactor = [1.0]\n",
    "\n",
    "                        if pre in pops_HO:\n",
    "                            conn_method = 'divergence'\n",
    "                            prob_rule = cfg.divergenceHO\n",
    "                        else: # topographycal connectivity\n",
    "                            conn_method = 'probability'\n",
    "                            prob_rule = '%f * exp(-dist_2D/%f)*(dist_2D<%f)*(abs(((((pre_y-%f)*(%f-%f))/(%f-%f))+%f)-post_y)<%f)' % (pmat[pre][post], l, cmat[pre][post],ymin[pre],ymax[post],ymin[post],ymax[pre],ymin[pre],ymin[post],y_thresh)\n",
    "\n",
    "                        netParams.connParams['thal_'+pre+'_'+post] = { \n",
    "                                    'preConds': {'pop': pre}, \n",
    "                                    'postConds': {'pop': post},\n",
    "                                    'synMech': syn,\n",
    "                                    conn_method:  prob_rule,\n",
    "                                    'weight': wmat[pre][post], \n",
    "                                    'synMechWeightFactor': synWeightFactor,\n",
    "                                    'delay': 'defaultDelay+dist_3D/propVelocity',\n",
    "                                    'synsPerConn': 1,\n",
    "                                    'sec': 'soma'}\n",
    "\n",
    "    if cfg.connect_RTN_TC:\n",
    "        for pre in pops_RTN:\n",
    "            for post in pops_TC:\n",
    "                if pre in pmat and post in pmat[pre]:\n",
    "                    if pre in cfg.thalamicpops and post in cfg.thalamicpops:\n",
    "                        pmat[pre][post]=cfg.connProb_RTN_TC\n",
    "                        wmat[pre][post]=cfg.connWeight_RTN_TC\n",
    "\n",
    "                        l = cfg.connLenghtConst\n",
    "                        y_thresh    = cmat[pre][post]/5\n",
    "\n",
    "                        syn = NGFSynMech_Th    # GABA A and GABA B\n",
    "                        synWeightFactor = [0.6,0.4]\n",
    "\n",
    "                        if post in pops_HO:\n",
    "                            conn_method = 'divergence'\n",
    "                            prob_rule = cfg.divergenceHO\n",
    "                        else: # topographycal connectivity\n",
    "                            conn_method = 'probability'\n",
    "                            prob_rule = '%f * exp(-dist_2D/%f)*(dist_2D<%f)*(abs(((((pre_y-%f)*(%f-%f))/(%f-%f))+%f)-post_y)<%f)' % (pmat[pre][post], l, cmat[pre][post],ymin[pre],ymax[post],ymin[post],ymax[pre],ymin[pre],ymin[post],y_thresh)\n",
    "\n",
    "                        netParams.connParams['thal_'+pre+'_'+post] = { \n",
    "                                    'preConds': {'pop': pre}, \n",
    "                                    'postConds': {'pop': post},\n",
    "                                    'synMech': syn,\n",
    "                                    conn_method:  prob_rule,\n",
    "                                    'weight': wmat[pre][post], \n",
    "                                    'synMechWeightFactor': synWeightFactor,\n",
    "                                    'delay': 'defaultDelay+dist_3D/propVelocity',\n",
    "                                    'synsPerConn': 1,\n",
    "                                    'sec': 'soma'}"
   ]
  },
  {
   "cell_type": "code",
   "execution_count": 25,
   "metadata": {},
   "outputs": [],
   "source": [
    "#------------------------------------------------------------------------------\n",
    "# Th->S1 connectivity parameters\n",
    "#------------------------------------------------------------------------------\n",
    "cfg.connect_Th_S1 = True\n",
    "cfg.TC_S1 = {}\n",
    "cfg.TC_S1['VPL_sTC'] = True\n",
    "cfg.TC_S1['VPM_sTC'] = True\n",
    "cfg.TC_S1['POm_sTC_s1'] = True\n",
    "\n",
    "if cfg.connect_Th_S1:\n",
    "\n",
    "    # mtype VPM_sTC POm_sTC_s1 nameref\n",
    "    with open('../info/anatomy/convergence_Th_S1.txt') as mtype_file:\n",
    "        mtype_content = mtype_file.read()       \n",
    "\n",
    "    convergence_Th_S1 = {}\n",
    "    convergence_Th_S1['VPM_sTC'] = {}\n",
    "    convergence_Th_S1['VPL_sTC'] = {}\n",
    "    convergence_Th_S1['POm_sTC_s1'] = {}\n",
    "\n",
    "    for line in mtype_content.split('\\n')[:-1]:\n",
    "        mtype, preFO, preHO, nameref  = line.split()\n",
    "        convergence_Th_S1['VPM_sTC'][mtype] = int(0.01* int(preFO)) # First Order\n",
    "        convergence_Th_S1['VPL_sTC'][mtype] = int(0.01* int(preFO)) # First Order  \n",
    "        convergence_Th_S1['POm_sTC_s1'][mtype] = int(0.01* int(preHO)) # High Order \n",
    "\n",
    "    ## Connectivity rules\n",
    "    radius_cilinder = netParams.sizeX/2.0\n",
    "    synapsesperconnection_Th_S1 = 9.0\n",
    "    radius2D_Th_S1 = 50.0\n",
    "\n",
    "\n",
    "    for pre in ['VPL_sTC', 'VPM_sTC', 'POm_sTC_s1']:\n",
    "        if pre in cfg.thalamicpops and cfg.TC_S1[pre]:\n",
    "            for post in Epops+Ipops: \n",
    "                \n",
    "                conn_convergence = np.ceil(convergence_Th_S1[pre][post]/synapsesperconnection_Th_S1)\n",
    "                prob_conv = 1.0*(conn_convergence/cfg.popNumber[pre])*((radius_cilinder**2)/(radius2D_Th_S1**2)) # prob*(AreaS1/Area_Th_syn)  \n",
    "                probability_rule = '%f if dist_2D < %f else 0.0' % (prob_conv,radius2D_Th_S1)\n",
    "\n",
    "                netParams.connParams['thal_'+pre+'_'+post] = { \n",
    "                    'preConds': {'pop': pre}, \n",
    "                    'postConds': {'pop': post},\n",
    "                    'weight': 0.72,  \n",
    "                    'delay': 'defaultDelay+dist_3D/propVelocity',\n",
    "                    'synsPerConn': int(synapsesperconnection_Th_S1), \n",
    "                    'synMech': ESynMech}  \n",
    "\n",
    "                if pre=='POm_sTC_s1':\n",
    "                    netParams.connParams['thal_'+pre+'_'+post]['convergence'] = conn_convergence # non-topographycal connectivity\n",
    "                else:\n",
    "                    netParams.connParams['thal_'+pre+'_'+post]['probability'] = probability_rule # FO (First Order)"
   ]
  },
  {
   "cell_type": "code",
   "execution_count": 35,
   "metadata": {},
   "outputs": [
    {
     "data": {
      "text/plain": [
       "{EE_L6_TPC_L4_L6_TPC_L4: {'preConds': {'pop': 'L6_TPC_L4'}, 'postConds': {'pop': 'L6_TPC_L4'}, 'synMech': ['AMPA', 'NMDA'], 'probability': 1.0, 'weight': 0.8, 'synMechWeightFactor': [1.0, 1.0], 'delay': 'defaultDelay+dist_3D/propVelocity', 'synsPerConn': 5, 'sec': 'spinyEE'}, thal_VPM_sTC_L6_TPC_L4: {'preConds': {'pop': 'VPM_sTC'}, 'postConds': {'pop': 'L6_TPC_L4'}, 'weight': 0.72, 'delay': 'defaultDelay+dist_3D/propVelocity', 'synsPerConn': 9, 'synMech': ['AMPA', 'NMDA'], 'probability': '9.000000 if dist_2D < 50.000000 else 0.0'}}"
      ]
     },
     "execution_count": 35,
     "metadata": {},
     "output_type": "execute_result"
    }
   ],
   "source": [
    "netParams.connParams"
   ]
  },
  {
   "cell_type": "markdown",
   "metadata": {},
   "source": [
    "## Run"
   ]
  },
  {
   "cell_type": "code",
   "execution_count": 26,
   "metadata": {},
   "outputs": [
    {
     "name": "stdout",
     "output_type": "stream",
     "text": [
      "\n",
      "Start time:  2021-06-23 01:26:35.994107\n"
     ]
    }
   ],
   "source": [
    "sim.initialize(netParams = netParams, simConfig = cfg);  \t\t\t\t# create network object and set cfg and net params\n",
    "sim.net.createPops();"
   ]
  },
  {
   "cell_type": "code",
   "execution_count": 27,
   "metadata": {},
   "outputs": [
    {
     "name": "stdout",
     "output_type": "stream",
     "text": [
      "\n",
      "Creating network of 2 cell populations on 1 hosts...\n",
      "  Number of cells on node 0: 6 \n",
      "  Done; cell creation time = 0.28 s.\n"
     ]
    }
   ],
   "source": [
    "sim.net.createCells();"
   ]
  },
  {
   "cell_type": "code",
   "execution_count": 28,
   "metadata": {},
   "outputs": [
    {
     "name": "stdout",
     "output_type": "stream",
     "text": [
      "Making connections...\n",
      "  Number of connections on node 0: 20 \n",
      "  Number of synaptic contacts on node 0: 200 \n",
      "  Done; cell connection time = 0.02 s.\n"
     ]
    }
   ],
   "source": [
    "sim.net.connectCells();"
   ]
  },
  {
   "cell_type": "code",
   "execution_count": 29,
   "metadata": {},
   "outputs": [
    {
     "name": "stdout",
     "output_type": "stream",
     "text": [
      "\n",
      "Gathering data...\n",
      "  Done; gather time = 0.01 s.\n",
      "\n",
      "Analyzing...\n",
      "  Cells: 6\n",
      "  Connections: 20 (3.33 per cell)\n",
      "  Synaptic contacts: 200 (33.33 per cell)\n"
     ]
    },
    {
     "data": {
      "text/plain": [
       "{spkt: {}, _repr_mimebundle_: {}}"
      ]
     },
     "execution_count": 29,
     "metadata": {},
     "output_type": "execute_result"
    }
   ],
   "source": [
    "sim.gatherData()"
   ]
  },
  {
   "cell_type": "code",
   "execution_count": 30,
   "metadata": {},
   "outputs": [
    {
     "data": {
      "text/plain": [
       "{'L6_TPC_L4': 5, 'VPM_sTC': 1}"
      ]
     },
     "execution_count": 30,
     "metadata": {},
     "output_type": "execute_result"
    }
   ],
   "source": [
    "cfg.popNumber"
   ]
  },
  {
   "cell_type": "code",
   "execution_count": 31,
   "metadata": {},
   "outputs": [
    {
     "name": "stdout",
     "output_type": "stream",
     "text": [
      "Plotting connectivity matrix...\n"
     ]
    },
    {
     "data": {
      "image/png": "[encoded data removed]",
      "text/plain": [
       "<Figure size 576x576 with 2 Axes>"
      ]
     },
     "metadata": {
      "needs_background": "light"
     },
     "output_type": "display_data"
    }
   ],
   "source": [
    "test = sim.analysis.plotConn(includePre=subPopLabels, includePost = subPopLabels, feature='numConns', showFig=False);\n",
    "\n",
    "# mtype           VPL_sTC     VPM_sTC    POm_sTC_s1        nameref\n",
    "# L5_TTPC2          299         299         277             L5_TT\n",
    "# L5_LBC            166         166         164             L5_IN\n",
    "# L6_TPC_L4         131         131         66              L6_PY\n",
    "# L6_LBC             77          77         39              L6_IN\n",
    "\n",
    "# for i in range(4):\n",
    "#     print('%.1f %.1f %.1f' % (test[1]['connMatrix'][0][i],test[1]['connMatrix'][1][i],test[1]['connMatrix'][2][i]))"
   ]
  },
  {
   "cell_type": "code",
   "execution_count": 32,
   "metadata": {
    "scrolled": true
   },
   "outputs": [
    {
     "data": {
      "text/plain": [
       "array([[200.,   0.],\n",
       "       [  0.,   0.]])"
      ]
     },
     "execution_count": 32,
     "metadata": {},
     "output_type": "execute_result"
    }
   ],
   "source": [
    "test[1]['connMatrix']"
   ]
  },
  {
   "cell_type": "code",
   "execution_count": 33,
   "metadata": {
    "scrolled": false
   },
   "outputs": [
    {
     "name": "stdout",
     "output_type": "stream",
     "text": [
      "Plotting 2D representation of network cell locations and connections...\n"
     ]
    },
    {
     "data": {
      "image/png": "[encoded data removed]",
      "text/plain": [
       "<Figure size 864x864 with 1 Axes>"
      ]
     },
     "metadata": {
      "needs_background": "light"
     },
     "output_type": "display_data"
    }
   ],
   "source": [
    "sim.analysis.plot2Dnet(include=subPopLabels,view='xy', showConns=True, \n",
    "                               popColors=None, tagsFile=None, figSize=(12, 12), fontSize=12, saveData=None, \n",
    "                               saveFig=None, showFig=True, lineWidth=0.1);"
   ]
  },
  {
   "cell_type": "code",
   "execution_count": 34,
   "metadata": {},
   "outputs": [
    {
     "name": "stdout",
     "output_type": "stream",
     "text": [
      "Plotting 2D representation of network cell locations and connections...\n"
     ]
    },
    {
     "data": {
      "image/png": "[encoded data removed]",
      "text/plain": [
       "<Figure size 864x864 with 1 Axes>"
      ]
     },
     "metadata": {
      "needs_background": "light"
     },
     "output_type": "display_data"
    }
   ],
   "source": [
    "sim.analysis.plot2Dnet(include=subPopLabels,view='xz', showConns=True, \n",
    "                               popColors=None, tagsFile=None, figSize=(12, 12), fontSize=12, saveData=None, \n",
    "                               saveFig=None, showFig=True, lineWidth=0.1);"
   ]
  },
  {
   "cell_type": "code",
   "execution_count": null,
   "metadata": {},
   "outputs": [],
   "source": []
  }
 ],
 "metadata": {
  "kernelspec": {
   "display_name": "Python 3",
   "language": "python",
   "name": "python3"
  },
  "language_info": {
   "codemirror_mode": {
    "name": "ipython",
    "version": 3
   },
   "file_extension": ".py",
   "mimetype": "text/x-python",
   "name": "python",
   "nbconvert_exporter": "python",
   "pygments_lexer": "ipython3",
   "version": "3.7.9"
  }
 },
 "nbformat": 4,
 "nbformat_minor": 4
}
